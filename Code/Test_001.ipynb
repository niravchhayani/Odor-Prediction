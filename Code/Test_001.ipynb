{
 "cells": [
  {
   "cell_type": "markdown",
   "metadata": {},
   "source": [
    "# Data Science Project: Gas Sensor Data for timely Prediction"
   ]
  },
  {
   "cell_type": "markdown",
   "metadata": {},
   "source": [
    "## Introduction\n",
    "\n",
    "This document is an outline of the “Gas Sensor” data science project to familiarize students or employees with sensor data and practice building a prediction algorithm.\n",
    "\n",
    "\n",
    "## Context of data collection\n",
    "A group of researchers placed 10 sensors (8 MOX sensors, 1 temperature sensor and 1 humidity sensor) in one of the researchers’ residence, recording the sensor levels for 2 years, trying to determine if the MOX sensors would detect the presence of odors in a room. The data has the recordings of 3 situations: \n",
    "    1) measurements of sensors before, during, and after the presence of a banana\n",
    "    2) measurements of sensors before, during, and after the presence of wine\n",
    "    3) measurements of sensors with no odors in the room (baseline)\n",
    "\n",
    "## For more information and for the dataset, here are important links:\n",
    "### Relevant paper: \n",
    "https://arxiv.org/pdf/1608.01719v1.pdf \n",
    "### Dataset and description: \n",
    "https://archive.ics.uci.edu/ml/datasets/Gas+sensors+for+home+activity+monitoring\n",
    "\n",
    "\n",
    "## Objectives\n",
    "Using the dataset available only, determine the source of the odor (banana, wine or background) as quickly as possible. Here are some steps to help develop this prediction model:\n",
    "    • Understand and visualize the data \n",
    "    • Identify relevant data and features \n",
    "    • What will be the mechanics to detect the right odor as fast as possible?\n",
    "        ◦ Question: Do you need to have all of the data to identify the odor?\n",
    "\n",
    "### Answering the following questions will help determine the structure of the model:\n",
    "        ◦ What are the in-scope data?\n",
    "        ◦ What are the input variables/features? \n",
    "        ◦ Which input variables are most helpful in predicting the type of odor? Alternatively, which input variables help predict the type of odor the fastest?\n",
    "        ◦ What kind of predictive models should you use? Which one performs best?\n",
    "        ◦ Should this model be implemented in real time, how long would it take for your model to correctly determine which odor is present?"
   ]
  },
  {
   "cell_type": "markdown",
   "metadata": {},
   "source": [
    "Importing Necessary Libraries"
   ]
  },
  {
   "cell_type": "code",
   "execution_count": null,
   "metadata": {},
   "outputs": [],
   "source": [
    "import numpy as np"
   ]
  },
  {
   "cell_type": "markdown",
   "metadata": {},
   "source": [
    "Importing Dataset"
   ]
  },
  {
   "cell_type": "code",
   "execution_count": 2,
   "metadata": {},
   "outputs": [],
   "source": [
    "## Importing dataset\n",
    "metadata = np.loadtxt('../Data/HT_Sensor_metadata.dat', skiprows=1, dtype=str)\n",
    "\n",
    "## Loading the dataset\n",
    "dataset = np.loadtxt('../Data/HT_Sensor_dataset.dat', skiprows=1)"
   ]
  },
  {
   "cell_type": "code",
   "execution_count": 3,
   "metadata": {},
   "outputs": [],
   "source": [
    "id = 17\n",
    "timeSeries = dataset[ dataset[:,0] == id, 1:]"
   ]
  },
  {
   "cell_type": "code",
   "execution_count": 4,
   "metadata": {},
   "outputs": [
    {
     "name": "stdout",
     "output_type": "stream",
     "text": [
      "(928991, 12)\n",
      "(100, 5)\n"
     ]
    }
   ],
   "source": [
    "print(dataset.shape)\n",
    "print(metadata.shape)\n",
    "#print(timeSeries.shape)"
   ]
  },
  {
   "cell_type": "code",
   "execution_count": 5,
   "metadata": {},
   "outputs": [
    {
     "name": "stdout",
     "output_type": "stream",
     "text": [
      "(928991, 12)\n"
     ]
    }
   ],
   "source": [
    "print(dataset.shape)"
   ]
  },
  {
   "cell_type": "code",
   "execution_count": 6,
   "metadata": {},
   "outputs": [],
   "source": [
    "import pandas as pd"
   ]
  },
  {
   "cell_type": "code",
   "execution_count": 7,
   "metadata": {},
   "outputs": [],
   "source": [
    "# Assigning heading to each column in metadata and dataset\n",
    "\n",
    "df_metadata = pd.DataFrame(metadata, columns = ['ID', 'Date', 'Class', 't0', 'dt']) \n",
    "df_dataset = pd.DataFrame(dataset, columns = ['ID', 'Time', 'R1', 'R2', 'R3', 'R4', 'R5', 'R6', 'R7', 'R8', 'Temp', 'Humidity'])"
   ]
  },
  {
   "cell_type": "code",
   "execution_count": 8,
   "metadata": {},
   "outputs": [],
   "source": []
  },
  {
   "cell_type": "code",
   "execution_count": 9,
   "metadata": {},
   "outputs": [],
   "source": [
    "# Assigning each class a number\n",
    "\n",
    "df_metadata.loc[df_metadata['Class'] == 'wine', 'Class'] = 0\n",
    "df_metadata.loc[df_metadata['Class'] == 'banana', 'Class'] = 1\n",
    "df_metadata.loc[df_metadata['Class'] == 'background', 'Class'] = 2"
   ]
  },
  {
   "cell_type": "code",
   "execution_count": 10,
   "metadata": {},
   "outputs": [
    {
     "name": "stdout",
     "output_type": "stream",
     "text": [
      "   ID      Date  Class     t0    dt      Time       R1       R2       R3  \\\n",
      "0   0  07-04-15      1  13.49  1.64 -0.999750  12.8621  10.3683  10.4383   \n",
      "1   0  07-04-15      1  13.49  1.64 -0.999472  12.8617  10.3682  10.4375   \n",
      "2   0  07-04-15      1  13.49  1.64 -0.999194  12.8607  10.3686  10.4370   \n",
      "3   0  07-04-15      1  13.49  1.64 -0.998916  12.8602  10.3686  10.4370   \n",
      "4   0  07-04-15      1  13.49  1.64 -0.998627  12.8595  10.3688  10.4374   \n",
      "\n",
      "        R4       R5       R6       R7       R8     Temp  Humidity  \n",
      "0  11.6699  13.4931  13.3423  8.04169  8.73901  26.2257   59.0528  \n",
      "1  11.6697  13.4927  13.3412  8.04133  8.73908  26.2308   59.0299  \n",
      "2  11.6696  13.4924  13.3405  8.04101  8.73915  26.2365   59.0093  \n",
      "3  11.6697  13.4921  13.3398  8.04086  8.73936  26.2416   58.9905  \n",
      "4  11.6699  13.4919  13.3390  8.04087  8.73986  26.2462   58.9736  \n",
      "        ID      Date  Class     t0    dt      Time       R1       R2       R3  \\\n",
      "928986  99  09-17-15      2  11.93  0.68  1.675182  12.6224  10.5805  10.7432   \n",
      "928987  99  09-17-15      2  11.93  0.68  1.675460  12.6236  10.5796  10.7436   \n",
      "928988  99  09-17-15      2  11.93  0.68  1.675738  12.6244  10.5795  10.7437   \n",
      "928989  99  09-17-15      2  11.93  0.68  1.676016  12.6243  10.5797  10.7440   \n",
      "928990  99  09-17-15      2  11.93  0.68  1.676304  12.6248  10.5791  10.7440   \n",
      "\n",
      "             R4       R5       R6       R7       R8     Temp  Humidity  \n",
      "928986  12.1775  12.6498  17.2926  6.20449  7.05966  27.7282   54.1532  \n",
      "928987  12.1780  12.6511  17.2918  6.20444  7.05980  27.7312   54.1423  \n",
      "928988  12.1782  12.6524  17.2907  6.20451  7.05967  27.7339   54.1324  \n",
      "928989  12.1784  12.6532  17.2904  6.20468  7.05969  27.7364   54.1235  \n",
      "928990  12.1784  12.6539  17.2895  6.20461  7.05944  27.7385   54.1154  \n"
     ]
    }
   ],
   "source": [
    "# Merging Metadata and Dataset to create full data using 'ID'\n",
    "\n",
    "df_metadata.ID = df_metadata.ID.astype(int)\n",
    "df_dataset.ID = df_dataset.ID.astype(int)\n",
    "\n",
    "df_fulldata = pd.merge(df_metadata, df_dataset, on='ID')\n",
    "print(df_fulldata.head())\n",
    "print(df_fulldata.tail())"
   ]
  },
  {
   "cell_type": "code",
   "execution_count": 61,
   "metadata": {},
   "outputs": [],
   "source": [
    "# To save metadata and dataset in csv format as well as Excel for future use in other format\n",
    "# as well as to see in excel format externally.\n",
    "\"\"\"\n",
    "df_metadata.to_csv('../Data/metadata.csv')\n",
    "df_dataset.to_csv('../Data/dataset.csv')\n",
    "df_fulldata.to_excel(\"../Data/Full_Data.xlsx\")\n",
    "\"\"\""
   ]
  },
  {
   "cell_type": "code",
   "execution_count": 11,
   "metadata": {},
   "outputs": [],
   "source": [
    "%matplotlib inline\n",
    "import matplotlib.pyplot as plt"
   ]
  },
  {
   "cell_type": "markdown",
   "metadata": {},
   "source": [
    "## Plotting different graphs to see the data"
   ]
  },
  {
   "cell_type": "code",
   "execution_count": 12,
   "metadata": {},
   "outputs": [
    {
     "data": {
      "text/plain": [
       "[<matplotlib.lines.Line2D at 0x7fc1f58ea9e8>]"
      ]
     },
     "execution_count": 12,
     "metadata": {},
     "output_type": "execute_result"
    },
    {
     "data": {
      "image/png": "[encoded data removed]",
      "text/plain": [
       "<Figure size 432x288 with 1 Axes>"
      ]
     },
     "metadata": {
      "needs_background": "light"
     },
     "output_type": "display_data"
    }
   ],
   "source": [
    "id1 = 20\n",
    "plt.plot(df_fulldata.Time[df_fulldata.ID == id1], df_fulldata.R4[df_fulldata.ID == id1], linewidth=2.0)"
   ]
  },
  {
   "cell_type": "code",
   "execution_count": 13,
   "metadata": {},
   "outputs": [],
   "source": [
    "x_axis = np.arange(len(df_fulldata.ID))\n",
    "#x = np.arange(len(y))"
   ]
  },
  {
   "cell_type": "code",
   "execution_count": 14,
   "metadata": {},
   "outputs": [
    {
     "data": {
      "text/plain": [
       "[<matplotlib.lines.Line2D at 0x7fc1f79135f8>]"
      ]
     },
     "execution_count": 14,
     "metadata": {},
     "output_type": "execute_result"
    },
    {
     "data": {
      "image/png": "[encoded data removed]",
      "text/plain": [
       "<Figure size 432x288 with 1 Axes>"
      ]
     },
     "metadata": {
      "needs_background": "light"
     },
     "output_type": "display_data"
    }
   ],
   "source": [
    "plt.plot(x_axis, df_fulldata.Humidity, linewidth=2.0)\n"
   ]
  },
  {
   "cell_type": "code",
   "execution_count": 15,
   "metadata": {},
   "outputs": [
    {
     "name": "stdout",
     "output_type": "stream",
     "text": [
      "(928991, 12)\n"
     ]
    }
   ],
   "source": [
    "print(df_dataset.shape)"
   ]
  },
  {
   "cell_type": "code",
   "execution_count": 16,
   "metadata": {},
   "outputs": [
    {
     "data": {
      "text/plain": [
       "(6174,)"
      ]
     },
     "execution_count": 16,
     "metadata": {},
     "output_type": "execute_result"
    }
   ],
   "source": [
    "df_fulldata.Time[df_fulldata.ID == id1].shape"
   ]
  },
  {
   "cell_type": "code",
   "execution_count": 17,
   "metadata": {},
   "outputs": [
    {
     "name": "stdout",
     "output_type": "stream",
     "text": [
      "(12815,)\n",
      "(8914,)\n",
      "(9498,)\n",
      "(9309,)\n",
      "(5396,)\n",
      "(8402,)\n",
      "(10530,)\n",
      "(8754,)\n",
      "(11326,)\n",
      "(8137,)\n",
      "(10190,)\n",
      "(6526,)\n",
      "(8488,)\n",
      "(7655,)\n",
      "(4922,)\n",
      "(8515,)\n",
      "(11855,)\n",
      "(9419,)\n",
      "(8709,)\n",
      "(8781,)\n",
      "(6174,)\n",
      "(8306,)\n",
      "(7882,)\n",
      "(7354,)\n",
      "(11079,)\n",
      "(13441,)\n",
      "(8149,)\n",
      "(11039,)\n",
      "(9140,)\n",
      "(11276,)\n",
      "(8639,)\n",
      "(9184,)\n",
      "(14148,)\n",
      "(7565,)\n",
      "(8535,)\n",
      "(9225,)\n",
      "(11212,)\n",
      "(12349,)\n",
      "(15393,)\n",
      "(13174,)\n",
      "(8916,)\n",
      "(8676,)\n",
      "(9035,)\n",
      "(8460,)\n",
      "(8902,)\n",
      "(9849,)\n",
      "(10206,)\n",
      "(8391,)\n",
      "(8134,)\n",
      "(7878,)\n",
      "(7915,)\n",
      "(8415,)\n",
      "(10492,)\n",
      "(8579,)\n",
      "(9982,)\n",
      "(9192,)\n",
      "(8898,)\n",
      "(13140,)\n",
      "(9090,)\n",
      "(11175,)\n",
      "(8798,)\n",
      "(10655,)\n",
      "(9075,)\n",
      "(8321,)\n",
      "(8255,)\n",
      "(8284,)\n",
      "(9355,)\n",
      "(10121,)\n",
      "(12430,)\n",
      "(10658,)\n",
      "(8304,)\n",
      "(8679,)\n",
      "(10190,)\n",
      "(9310,)\n",
      "(8442,)\n",
      "(10138,)\n",
      "(3825,)\n",
      "(8643,)\n",
      "(10101,)\n",
      "(9519,)\n",
      "(7613,)\n",
      "(9626,)\n",
      "(9511,)\n",
      "(9822,)\n",
      "(9339,)\n",
      "(9882,)\n",
      "(8917,)\n",
      "(8679,)\n",
      "(8358,)\n",
      "(8985,)\n",
      "(9279,)\n",
      "(9372,)\n",
      "(10018,)\n",
      "(10496,)\n",
      "(9952,)\n",
      "(0,)\n",
      "(10342,)\n",
      "(9724,)\n",
      "(9689,)\n",
      "(9554,)\n"
     ]
    }
   ],
   "source": [
    "for k in range(100):\n",
    "    print(df_fulldata.Time[df_fulldata.ID == k].shape)"
   ]
  },
  {
   "cell_type": "markdown",
   "metadata": {},
   "source": [
    "### Plots of 8 MOX Sensors with respect to Time for Banana, Wine and Background"
   ]
  },
  {
   "cell_type": "code",
   "execution_count": 18,
   "metadata": {},
   "outputs": [
    {
     "data": {
      "text/plain": [
       "Text(0,0.5,'Values(kOhm)')"
      ]
     },
     "execution_count": 18,
     "metadata": {},
     "output_type": "execute_result"
    },
    {
     "data": {
      "image/png": "[encoded data removed]",
      "text/plain": [
       "<Figure size 1800x1440 with 8 Axes>"
      ]
     },
     "metadata": {
      "needs_background": "light"
     },
     "output_type": "display_data"
    }
   ],
   "source": [
    "fig, axes = plt.subplots(nrows = 4, ncols = 2)\n",
    "fig.set_figheight(20)\n",
    "fig.set_figwidth(25)\n",
    "fig.subplots_adjust(hspace = 0.5)\n",
    "id1 = 1  # Wine\n",
    "id2 = 18 # Banana\n",
    "id3 = 13 # Banana\n",
    "id4 = 15 # Banana\n",
    "id5 = 16 # Banana\n",
    "id6 = 17 # Banana\n",
    "id7 = 78 # Background\n",
    "id8 = 76 # Background\n",
    "\n",
    "axes[0,0].plot(df_fulldata.Time[df_fulldata.ID == id1], df_fulldata.R1[df_fulldata.ID == id1],c = 'red',linewidth = '2.0',label = 'R1')\n",
    "axes[0,0].plot(df_fulldata.Time[df_fulldata.ID == id1], df_fulldata.R2[df_fulldata.ID == id1],c = 'green',linewidth = '2.0',label = 'R2')\n",
    "axes[0,0].plot(df_fulldata.Time[df_fulldata.ID == id1], df_fulldata.R3[df_fulldata.ID == id1],c = 'blue',linewidth = '2.0',label = 'R3')\n",
    "axes[0,0].plot(df_fulldata.Time[df_fulldata.ID == id1], df_fulldata.R4[df_fulldata.ID == id1],c = 'black',linewidth = '2.0',label = 'R4')\n",
    "axes[0,0].plot(df_fulldata.Time[df_fulldata.ID == id1], df_fulldata.R5[df_fulldata.ID == id1],c = 'yellow',linewidth = '2.0',label = 'R3')\n",
    "axes[0,0].plot(df_fulldata.Time[df_fulldata.ID == id1], df_fulldata.R7[df_fulldata.ID == id1],c = 'cyan',linewidth = '2.0',label = 'R4')\n",
    "axes[0,0].set_title('R1, R2, R3, R4, R5 and R7 Vs Time')\n",
    "axes[0,0].set_xlabel('Time(Hour)')\n",
    "axes[0,0].set_ylabel('Values(kOhm)')\n",
    "\n",
    "axes[0,1].plot(df_fulldata.Time[df_fulldata.ID == id2], df_fulldata.R1[df_fulldata.ID == id2],c = 'red',linewidth = '2.0',label = 'R1')\n",
    "axes[0,1].plot(df_fulldata.Time[df_fulldata.ID == id2], df_fulldata.R2[df_fulldata.ID == id2],c = 'green',linewidth = '2.0',label = 'R2')\n",
    "axes[0,1].plot(df_fulldata.Time[df_fulldata.ID == id2], df_fulldata.R3[df_fulldata.ID == id2],c = 'blue',linewidth = '2.0',label = 'R3')\n",
    "axes[0,1].plot(df_fulldata.Time[df_fulldata.ID == id2], df_fulldata.R4[df_fulldata.ID == id2],c = 'black',linewidth = '2.0',label = 'R4')\n",
    "axes[0,1].plot(df_fulldata.Time[df_fulldata.ID == id2], df_fulldata.R5[df_fulldata.ID == id2],c = 'yellow',linewidth = '2.0',label = 'R3')\n",
    "axes[0,1].plot(df_fulldata.Time[df_fulldata.ID == id2], df_fulldata.R7[df_fulldata.ID == id2],c = 'cyan',linewidth = '2.0',label = 'R4')\n",
    "axes[0,1].set_title('R1, R2, R3, R4, R5 and R7 Vs Time')\n",
    "axes[0,1].set_xlabel('Time(Hour)')\n",
    "axes[0,1].set_ylabel('Values(kOhm)')\n",
    "\n",
    "axes[1,0].plot(df_fulldata.Time[df_fulldata.ID == id3], df_fulldata.R1[df_fulldata.ID == id3],c = 'red',linewidth = '2.0',label = 'R1')\n",
    "axes[1,0].plot(df_fulldata.Time[df_fulldata.ID == id3], df_fulldata.R2[df_fulldata.ID == id3],c = 'green',linewidth = '2.0',label = 'R2')\n",
    "axes[1,0].plot(df_fulldata.Time[df_fulldata.ID == id3], df_fulldata.R3[df_fulldata.ID == id3],c = 'blue',linewidth = '2.0',label = 'R3')\n",
    "axes[1,0].plot(df_fulldata.Time[df_fulldata.ID == id3], df_fulldata.R4[df_fulldata.ID == id3],c = 'black',linewidth = '2.0',label = 'R4')\n",
    "axes[1,0].plot(df_fulldata.Time[df_fulldata.ID == id3], df_fulldata.R5[df_fulldata.ID == id3],c = 'yellow',linewidth = '2.0',label = 'R3')\n",
    "axes[1,0].plot(df_fulldata.Time[df_fulldata.ID == id3], df_fulldata.R7[df_fulldata.ID == id3],c = 'cyan',linewidth = '2.0',label = 'R4')\n",
    "axes[1,0].set_title('R1, R2, R3, R4, R5 and R7 Vs Time')\n",
    "axes[1,0].set_xlabel('Time(Hour)')\n",
    "axes[1,0].set_ylabel('Values(kOhm)')\n",
    "\n",
    "axes[1,1].plot(df_fulldata.Time[df_fulldata.ID == id4], df_fulldata.R1[df_fulldata.ID == id4],c = 'red',linewidth = '2.0',label = 'R1')\n",
    "axes[1,1].plot(df_fulldata.Time[df_fulldata.ID == id4], df_fulldata.R2[df_fulldata.ID == id4],c = 'green',linewidth = '2.0',label = 'R2')\n",
    "axes[1,1].plot(df_fulldata.Time[df_fulldata.ID == id4], df_fulldata.R3[df_fulldata.ID == id4],c = 'blue',linewidth = '2.0',label = 'R3')\n",
    "axes[1,1].plot(df_fulldata.Time[df_fulldata.ID == id4], df_fulldata.R4[df_fulldata.ID == id4],c = 'black',linewidth = '2.0',label = 'R4')\n",
    "axes[1,1].plot(df_fulldata.Time[df_fulldata.ID == id4], df_fulldata.R5[df_fulldata.ID == id4],c = 'yellow',linewidth = '2.0',label = 'R3')\n",
    "axes[1,1].plot(df_fulldata.Time[df_fulldata.ID == id4], df_fulldata.R7[df_fulldata.ID == id4],c = 'cyan',linewidth = '2.0',label = 'R4')\n",
    "axes[1,1].set_title('R1, R2, R3, R4, R5 and R7 Vs Time')\n",
    "axes[1,1].set_xlabel('Time(Hour)')\n",
    "axes[1,1].set_ylabel('Values(kOhm)')\n",
    "\n",
    "axes[2,0].plot(df_fulldata.Time[df_fulldata.ID == id5], df_fulldata.R1[df_fulldata.ID == id5],c = 'red',linewidth = '2.0',label = 'R1')\n",
    "axes[2,0].plot(df_fulldata.Time[df_fulldata.ID == id5], df_fulldata.R2[df_fulldata.ID == id5],c = 'green',linewidth = '2.0',label = 'R2')\n",
    "axes[2,0].plot(df_fulldata.Time[df_fulldata.ID == id5], df_fulldata.R3[df_fulldata.ID == id5],c = 'blue',linewidth = '2.0',label = 'R3')\n",
    "axes[2,0].plot(df_fulldata.Time[df_fulldata.ID == id5], df_fulldata.R4[df_fulldata.ID == id5],c = 'black',linewidth = '2.0',label = 'R4')\n",
    "axes[2,0].plot(df_fulldata.Time[df_fulldata.ID == id5], df_fulldata.R5[df_fulldata.ID == id5],c = 'yellow',linewidth = '2.0',label = 'R3')\n",
    "axes[2,0].plot(df_fulldata.Time[df_fulldata.ID == id5], df_fulldata.R7[df_fulldata.ID == id5],c = 'cyan',linewidth = '2.0',label = 'R4')\n",
    "axes[2,0].set_title('R1, R2, R3, R4, R5 and R7 Vs Time')\n",
    "axes[2,0].set_xlabel('Time(Hour)')\n",
    "axes[2,0].set_ylabel('Values(kOhm)')\n",
    "\n",
    "axes[2,1].plot(df_fulldata.Time[df_fulldata.ID == id6], df_fulldata.R1[df_fulldata.ID == id6],c = 'red',linewidth = '2.0',label = 'R1')\n",
    "axes[2,1].plot(df_fulldata.Time[df_fulldata.ID == id6], df_fulldata.R2[df_fulldata.ID == id6],c = 'green',linewidth = '2.0',label = 'R2')\n",
    "axes[2,1].plot(df_fulldata.Time[df_fulldata.ID == id6], df_fulldata.R3[df_fulldata.ID == id6],c = 'blue',linewidth = '2.0',label = 'R3')\n",
    "axes[2,1].plot(df_fulldata.Time[df_fulldata.ID == id6], df_fulldata.R4[df_fulldata.ID == id6],c = 'black',linewidth = '2.0',label = 'R4')\n",
    "axes[2,1].plot(df_fulldata.Time[df_fulldata.ID == id6], df_fulldata.R5[df_fulldata.ID == id6],c = 'yellow',linewidth = '2.0',label = 'R3')\n",
    "axes[2,1].plot(df_fulldata.Time[df_fulldata.ID == id6], df_fulldata.R7[df_fulldata.ID == id6],c = 'cyan',linewidth = '2.0',label = 'R4')\n",
    "axes[2,1].set_title('R1, R2, R3, R4, R5 and R7 Vs Time')\n",
    "axes[2,1].set_xlabel('Time(Hour)')\n",
    "axes[2,1].set_ylabel('Values(kOhm)')\n",
    "\n",
    "axes[3,0].plot(df_fulldata.Time[df_fulldata.ID == id7], df_fulldata.R1[df_fulldata.ID == id7],c = 'red',linewidth = '2.0',label = 'R1')\n",
    "axes[3,0].plot(df_fulldata.Time[df_fulldata.ID == id7], df_fulldata.R2[df_fulldata.ID == id7],c = 'green',linewidth = '2.0',label = 'R2')\n",
    "axes[3,0].plot(df_fulldata.Time[df_fulldata.ID == id7], df_fulldata.R3[df_fulldata.ID == id7],c = 'blue',linewidth = '2.0',label = 'R3')\n",
    "axes[3,0].plot(df_fulldata.Time[df_fulldata.ID == id7], df_fulldata.R4[df_fulldata.ID == id7],c = 'black',linewidth = '2.0',label = 'R4')\n",
    "axes[3,0].plot(df_fulldata.Time[df_fulldata.ID == id7], df_fulldata.R5[df_fulldata.ID == id7],c = 'yellow',linewidth = '2.0',label = 'R3')\n",
    "axes[3,0].plot(df_fulldata.Time[df_fulldata.ID == id7], df_fulldata.R7[df_fulldata.ID == id7],c = 'cyan',linewidth = '2.0',label = 'R4')\n",
    "axes[3,0].set_title('R1, R2, R3, R4, R5 and R7 Vs Time')\n",
    "axes[3,0].set_xlabel('Time(Hour)')\n",
    "axes[3,0].set_ylabel('Values(kOhm)')\n",
    "\n",
    "axes[3,1].plot(df_fulldata.Time[df_fulldata.ID == id8], df_fulldata.R1[df_fulldata.ID == id8],c = 'red',linewidth = '2.0',label = 'R1')\n",
    "axes[3,1].plot(df_fulldata.Time[df_fulldata.ID == id8], df_fulldata.R2[df_fulldata.ID == id8],c = 'green',linewidth = '2.0',label = 'R2')\n",
    "axes[3,1].plot(df_fulldata.Time[df_fulldata.ID == id8], df_fulldata.R3[df_fulldata.ID == id8],c = 'blue',linewidth = '2.0',label = 'R3')\n",
    "axes[3,1].plot(df_fulldata.Time[df_fulldata.ID == id8], df_fulldata.R4[df_fulldata.ID == id8],c = 'black',linewidth = '2.0',label = 'R4')\n",
    "axes[3,1].plot(df_fulldata.Time[df_fulldata.ID == id8], df_fulldata.R5[df_fulldata.ID == id8],c = 'yellow',linewidth = '2.0',label = 'R3')\n",
    "axes[3,1].plot(df_fulldata.Time[df_fulldata.ID == id8], df_fulldata.R7[df_fulldata.ID == id8],c = 'cyan',linewidth = '2.0',label = 'R4')\n",
    "axes[3,1].set_title('R1, R2, R3, R4, R5 and R7 Vs Time')\n",
    "axes[3,1].set_xlabel('Time(Hour)')\n",
    "axes[3,1].set_ylabel('Values(kOhm)')"
   ]
  },
  {
   "cell_type": "markdown",
   "metadata": {},
   "source": [
    "Comparing wine with Banana for each sensor differently"
   ]
  },
  {
   "cell_type": "code",
   "execution_count": 19,
   "metadata": {},
   "outputs": [
    {
     "data": {
      "text/plain": [
       "Text(0,0.5,'Values(kOhm)')"
      ]
     },
     "execution_count": 19,
     "metadata": {},
     "output_type": "execute_result"
    },
    {
     "data": {
      "image/png": "[encoded data removed]",
      "text/plain": [
       "<Figure size 1800x1440 with 8 Axes>"
      ]
     },
     "metadata": {
      "needs_background": "light"
     },
     "output_type": "display_data"
    }
   ],
   "source": [
    "fig, axes = plt.subplots(nrows = 4, ncols = 2)\n",
    "fig.set_figheight(20)\n",
    "fig.set_figwidth(25)\n",
    "fig.subplots_adjust(hspace = 0.5)\n",
    "id1 = 1  # Wine\n",
    "id2 = 18 # Banana\n",
    "id3 = 13 # Banana\n",
    "id4 = 15 # Banana\n",
    "id5 = 16 # Banana\n",
    "id6 = 17 # Banana\n",
    "id7 = 78 # Background\n",
    "id8 = 76 # Background\n",
    "\n",
    "axes[0,0].plot(df_fulldata.Time[df_fulldata.ID == id1], df_fulldata.R1[df_fulldata.ID == id1],c = 'red',linewidth = '2.0',label = 'ID1')\n",
    "axes[0,0].plot(df_fulldata.Time[df_fulldata.ID == id2], df_fulldata.R1[df_fulldata.ID == id2],c = 'green',linewidth = '2.0',label = 'ID2')\n",
    "axes[0,0].plot(df_fulldata.Time[df_fulldata.ID == id3], df_fulldata.R1[df_fulldata.ID == id3],c = 'blue',linewidth = '2.0',label = 'ID3')\n",
    "axes[0,0].set_title('R1 Vs Time')\n",
    "axes[0,0].set_xlabel('Time(Hour)')\n",
    "axes[0,0].set_ylabel('Values(kOhm)')\n",
    "\n",
    "axes[0,1].plot(df_fulldata.Time[df_fulldata.ID == id1], df_fulldata.R2[df_fulldata.ID == id1],c = 'red',linewidth = '2.0',label = 'ID1')\n",
    "axes[0,1].plot(df_fulldata.Time[df_fulldata.ID == id2], df_fulldata.R2[df_fulldata.ID == id2],c = 'green',linewidth = '2.0',label = 'ID2')\n",
    "axes[0,1].plot(df_fulldata.Time[df_fulldata.ID == id3], df_fulldata.R2[df_fulldata.ID == id3],c = 'blue',linewidth = '2.0',label = 'ID3')\n",
    "axes[0,1].set_title('R2 Vs Time')\n",
    "axes[0,1].set_xlabel('Time(Hour)')\n",
    "axes[0,1].set_ylabel('Values(kOhm)')\n",
    "\n",
    "axes[1,0].plot(df_fulldata.Time[df_fulldata.ID == id1], df_fulldata.R3[df_fulldata.ID == id1],c = 'red',linewidth = '2.0',label = 'ID1')\n",
    "axes[1,0].plot(df_fulldata.Time[df_fulldata.ID == id2], df_fulldata.R3[df_fulldata.ID == id2],c = 'green',linewidth = '2.0',label = 'ID2')\n",
    "axes[1,0].plot(df_fulldata.Time[df_fulldata.ID == id3], df_fulldata.R3[df_fulldata.ID == id3],c = 'blue',linewidth = '2.0',label = 'ID3')\n",
    "axes[1,0].set_title('R3 Vs Time')\n",
    "axes[1,0].set_xlabel('Time(Hour)')\n",
    "axes[1,0].set_ylabel('Values(kOhm)')\n",
    "\n",
    "axes[1,1].plot(df_fulldata.Time[df_fulldata.ID == id1], df_fulldata.R4[df_fulldata.ID == id1],c = 'red',linewidth = '2.0',label = 'ID1')\n",
    "axes[1,1].plot(df_fulldata.Time[df_fulldata.ID == id2], df_fulldata.R4[df_fulldata.ID == id2],c = 'green',linewidth = '2.0',label = 'ID2')\n",
    "axes[1,1].plot(df_fulldata.Time[df_fulldata.ID == id3], df_fulldata.R4[df_fulldata.ID == id3],c = 'blue',linewidth = '2.0',label = 'ID3')\n",
    "axes[1,1].set_title('R4 Vs Time')\n",
    "axes[1,1].set_xlabel('Time(Hour)')\n",
    "axes[1,1].set_ylabel('Values(kOhm)')\n",
    "\n",
    "\"\"\"\n",
    "axes[2,0].plot(df_fulldata.Time[df_fulldata.ID == id1], df_fulldata.R5[df_fulldata.ID == id1],c = 'red',linewidth = '2.0',label = 'ID1')\n",
    "axes[2,0].plot(df_fulldata.Time[df_fulldata.ID == id2], df_fulldata.R5[df_fulldata.ID == id2],c = 'green',linewidth = '2.0',label = 'ID2')\n",
    "axes[2,0].plot(df_fulldata.Time[df_fulldata.ID == id3], df_fulldata.R5[df_fulldata.ID == id3],c = 'blue',linewidth = '2.0',label = 'ID3')\n",
    "axes[2,0].plot(df_fulldata.Time[df_fulldata.ID == id8], df_fulldata.R6[df_fulldata.ID == id1],c = 'black',linewidth = '2.0',label = 'ID1')\n",
    "axes[2,0].plot(df_fulldata.Time[df_fulldata.ID == id8], df_fulldata.R6[df_fulldata.ID == id2],c = 'yellow',linewidth = '2.0',label = 'ID2')\n",
    "axes[2,0].plot(df_fulldata.Time[df_fulldata.ID == id8], df_fulldata.R6[df_fulldata.ID == id3],c = 'cyan',linewidth = '2.0',label = 'ID3')\n",
    "axes[2,0].set_title('R5, R6 Vs Time')\n",
    "axes[2,0].set_xlabel('Time(Hour)')\n",
    "axes[2,0].set_ylabel('Values(kOhm)')\n",
    "\n",
    "axes[2,1].plot(df_fulldata.Time[df_fulldata.ID == id1], df_fulldata.R7[df_fulldata.ID == id1],c = 'red',linewidth = '2.0',label = 'ID1')\n",
    "axes[2,1].plot(df_fulldata.Time[df_fulldata.ID == id2], df_fulldata.R7[df_fulldata.ID == id2],c = 'green',linewidth = '2.0',label = 'ID2')\n",
    "axes[2,1].plot(df_fulldata.Time[df_fulldata.ID == id3], df_fulldata.R7[df_fulldata.ID == id3],c = 'blue',linewidth = '2.0',label = 'ID3')\n",
    "axes[2,1].plot(df_fulldata.Time[df_fulldata.ID == id8], df_fulldata.R8[df_fulldata.ID == id1],c = 'black',linewidth = '2.0',label = 'ID1')\n",
    "axes[2,1].plot(df_fulldata.Time[df_fulldata.ID == id8], df_fulldata.R8[df_fulldata.ID == id2],c = 'yellow',linewidth = '2.0',label = 'ID2')\n",
    "axes[2,1].plot(df_fulldata.Time[df_fulldata.ID == id8], df_fulldata.R8[df_fulldata.ID == id3],c = 'cyan',linewidth = '2.0',label = 'ID3')\n",
    "axes[2,1].set_title('R7, R8 Vs Time')\n",
    "axes[2,1].set_xlabel('Time(Hour)')\n",
    "axes[2,1].set_ylabel('Values(kOhm)')\n",
    "\"\"\"\n",
    "\n",
    "axes[3,0].plot(df_fulldata.Time[df_fulldata.ID == id1], df_fulldata.Temp[df_fulldata.ID == id1],c = 'red',linewidth = '2.0',label = 'ID1')\n",
    "axes[3,0].plot(df_fulldata.Time[df_fulldata.ID == id2], df_fulldata.Temp[df_fulldata.ID == id2],c = 'green',linewidth = '2.0',label = 'ID2')\n",
    "axes[3,0].plot(df_fulldata.Time[df_fulldata.ID == id3], df_fulldata.Temp[df_fulldata.ID == id3],c = 'blue',linewidth = '2.0',label = 'ID3')\n",
    "axes[3,0].set_title('Temp Vs Time')\n",
    "axes[3,0].set_xlabel('Time(Hour)')\n",
    "axes[3,0].set_ylabel('Values(kOhm)')\n",
    "\n",
    "axes[3,1].plot(df_fulldata.Time[df_fulldata.ID == id1], df_fulldata.Humidity[df_fulldata.ID == id1],c = 'red',linewidth = '2.0',label = 'ID1')\n",
    "axes[3,1].plot(df_fulldata.Time[df_fulldata.ID == id2], df_fulldata.Humidity[df_fulldata.ID == id2],c = 'green',linewidth = '2.0',label = 'ID2')\n",
    "axes[3,1].plot(df_fulldata.Time[df_fulldata.ID == id3], df_fulldata.Humidity[df_fulldata.ID == id3],c = 'blue',linewidth = '2.0',label = 'ID3')\n",
    "axes[3,1].set_title('Humidity Vs Time')\n",
    "axes[3,1].set_xlabel('Time(Hour)')\n",
    "axes[3,1].set_ylabel('Values(kOhm)')"
   ]
  },
  {
   "cell_type": "code",
   "execution_count": 20,
   "metadata": {},
   "outputs": [],
   "source": [
    "from scipy import stats"
   ]
  },
  {
   "cell_type": "code",
   "execution_count": 21,
   "metadata": {},
   "outputs": [],
   "source": [
    "x = np.random.random(10)\n",
    "y = np.random.random(10)\n",
    "slope, intercept, r_value, p_value, std_err = stats.linregress(x,y)"
   ]
  },
  {
   "cell_type": "code",
   "execution_count": 22,
   "metadata": {},
   "outputs": [
    {
     "data": {
      "text/plain": [
       "0.7776267515009825"
      ]
     },
     "execution_count": 22,
     "metadata": {},
     "output_type": "execute_result"
    }
   ],
   "source": [
    "p_value"
   ]
  },
  {
   "cell_type": "code",
   "execution_count": 27,
   "metadata": {},
   "outputs": [],
   "source": [
    "x_val = df_fulldata.R1.values"
   ]
  },
  {
   "cell_type": "code",
   "execution_count": 28,
   "metadata": {},
   "outputs": [],
   "source": [
    "y_val = df_fulldata.Class.values"
   ]
  },
  {
   "cell_type": "code",
   "execution_count": 29,
   "metadata": {},
   "outputs": [
    {
     "data": {
      "text/plain": [
       "(928991,)"
      ]
     },
     "execution_count": 29,
     "metadata": {},
     "output_type": "execute_result"
    }
   ],
   "source": [
    "x_val.shape"
   ]
  },
  {
   "cell_type": "code",
   "execution_count": 30,
   "metadata": {},
   "outputs": [
    {
     "data": {
      "text/plain": [
       "(928991,)"
      ]
     },
     "execution_count": 30,
     "metadata": {},
     "output_type": "execute_result"
    }
   ],
   "source": [
    "y_val.shape"
   ]
  },
  {
   "cell_type": "code",
   "execution_count": 31,
   "metadata": {},
   "outputs": [
    {
     "name": "stdout",
     "output_type": "stream",
     "text": [
      "0.0\n"
     ]
    }
   ],
   "source": [
    "slope, intercept, r_value, p_value, std_err = stats.linregress(x_val,y_val)\n",
    "print(p_value)"
   ]
  },
  {
   "cell_type": "code",
   "execution_count": 36,
   "metadata": {},
   "outputs": [
    {
     "name": "stdout",
     "output_type": "stream",
     "text": [
      "0.20816443511908486\n"
     ]
    }
   ],
   "source": [
    "y_val = df_fulldata.Class.values\n",
    "x_val = df_fulldata.R1.values\n",
    "slope, intercept, r_value, p_value, std_err = stats.linregress(y_val,x_val)\n",
    "print(r_value)"
   ]
  },
  {
   "cell_type": "code",
   "execution_count": 26,
   "metadata": {},
   "outputs": [
    {
     "name": "stdout",
     "output_type": "stream",
     "text": [
      "0    1\n",
      "1    1\n",
      "2    1\n",
      "3    1\n",
      "4    1\n",
      "Name: Class, dtype: int64\n"
     ]
    }
   ],
   "source": [
    "df_fulldata.shape\n",
    "newDf = df_fulldata.iloc[:,6:]\n",
    "newDf2 = df_fulldata.iloc[:,2]\n",
    "print(newDf2.head())"
   ]
  },
  {
   "cell_type": "code",
   "execution_count": 28,
   "metadata": {},
   "outputs": [],
   "source": [
    "class_val = newDf2.values\n",
    "data_val = newDf.values"
   ]
  },
  {
   "cell_type": "code",
   "execution_count": 141,
   "metadata": {},
   "outputs": [
    {
     "data": {
      "text/html": [
       "<div>\n",
       "<style scoped>\n",
       "    .dataframe tbody tr th:only-of-type {\n",
       "        vertical-align: middle;\n",
       "    }\n",
       "\n",
       "    .dataframe tbody tr th {\n",
       "        vertical-align: top;\n",
       "    }\n",
       "\n",
       "    .dataframe thead th {\n",
       "        text-align: right;\n",
       "    }\n",
       "</style>\n",
       "<table border=\"1\" class=\"dataframe\">\n",
       "  <thead>\n",
       "    <tr style=\"text-align: right;\">\n",
       "      <th></th>\n",
       "      <th>ID</th>\n",
       "      <th>Class</th>\n",
       "      <th>Time</th>\n",
       "      <th>R1</th>\n",
       "      <th>R5</th>\n",
       "      <th>R6</th>\n",
       "      <th>R7</th>\n",
       "      <th>R8</th>\n",
       "      <th>Temp</th>\n",
       "      <th>Humidity</th>\n",
       "    </tr>\n",
       "  </thead>\n",
       "  <tbody>\n",
       "    <tr>\n",
       "      <th>0</th>\n",
       "      <td>0.0</td>\n",
       "      <td>1</td>\n",
       "      <td>-0.999750</td>\n",
       "      <td>12.8621</td>\n",
       "      <td>13.4931</td>\n",
       "      <td>13.3423</td>\n",
       "      <td>8.04169</td>\n",
       "      <td>8.73901</td>\n",
       "      <td>26.2257</td>\n",
       "      <td>59.0528</td>\n",
       "    </tr>\n",
       "    <tr>\n",
       "      <th>1</th>\n",
       "      <td>0.0</td>\n",
       "      <td>1</td>\n",
       "      <td>-0.999472</td>\n",
       "      <td>12.8617</td>\n",
       "      <td>13.4927</td>\n",
       "      <td>13.3412</td>\n",
       "      <td>8.04133</td>\n",
       "      <td>8.73908</td>\n",
       "      <td>26.2308</td>\n",
       "      <td>59.0299</td>\n",
       "    </tr>\n",
       "    <tr>\n",
       "      <th>2</th>\n",
       "      <td>0.0</td>\n",
       "      <td>1</td>\n",
       "      <td>-0.999194</td>\n",
       "      <td>12.8607</td>\n",
       "      <td>13.4924</td>\n",
       "      <td>13.3405</td>\n",
       "      <td>8.04101</td>\n",
       "      <td>8.73915</td>\n",
       "      <td>26.2365</td>\n",
       "      <td>59.0093</td>\n",
       "    </tr>\n",
       "    <tr>\n",
       "      <th>3</th>\n",
       "      <td>0.0</td>\n",
       "      <td>1</td>\n",
       "      <td>-0.998916</td>\n",
       "      <td>12.8602</td>\n",
       "      <td>13.4921</td>\n",
       "      <td>13.3398</td>\n",
       "      <td>8.04086</td>\n",
       "      <td>8.73936</td>\n",
       "      <td>26.2416</td>\n",
       "      <td>58.9905</td>\n",
       "    </tr>\n",
       "    <tr>\n",
       "      <th>4</th>\n",
       "      <td>0.0</td>\n",
       "      <td>1</td>\n",
       "      <td>-0.998627</td>\n",
       "      <td>12.8595</td>\n",
       "      <td>13.4919</td>\n",
       "      <td>13.3390</td>\n",
       "      <td>8.04087</td>\n",
       "      <td>8.73986</td>\n",
       "      <td>26.2462</td>\n",
       "      <td>58.9736</td>\n",
       "    </tr>\n",
       "    <tr>\n",
       "      <th>5</th>\n",
       "      <td>0.0</td>\n",
       "      <td>1</td>\n",
       "      <td>-0.998349</td>\n",
       "      <td>12.8594</td>\n",
       "      <td>13.4921</td>\n",
       "      <td>13.3382</td>\n",
       "      <td>8.04088</td>\n",
       "      <td>8.74016</td>\n",
       "      <td>26.2503</td>\n",
       "      <td>58.9583</td>\n",
       "    </tr>\n",
       "    <tr>\n",
       "      <th>6</th>\n",
       "      <td>0.0</td>\n",
       "      <td>1</td>\n",
       "      <td>-0.998071</td>\n",
       "      <td>12.8595</td>\n",
       "      <td>13.4919</td>\n",
       "      <td>13.3377</td>\n",
       "      <td>8.04060</td>\n",
       "      <td>8.74013</td>\n",
       "      <td>26.2541</td>\n",
       "      <td>58.9445</td>\n",
       "    </tr>\n",
       "    <tr>\n",
       "      <th>7</th>\n",
       "      <td>0.0</td>\n",
       "      <td>1</td>\n",
       "      <td>-0.997793</td>\n",
       "      <td>12.8587</td>\n",
       "      <td>13.4916</td>\n",
       "      <td>13.3371</td>\n",
       "      <td>8.04063</td>\n",
       "      <td>8.73963</td>\n",
       "      <td>26.2575</td>\n",
       "      <td>58.9319</td>\n",
       "    </tr>\n",
       "    <tr>\n",
       "      <th>8</th>\n",
       "      <td>0.0</td>\n",
       "      <td>1</td>\n",
       "      <td>-0.997515</td>\n",
       "      <td>12.8579</td>\n",
       "      <td>13.4914</td>\n",
       "      <td>13.3365</td>\n",
       "      <td>8.04009</td>\n",
       "      <td>8.73949</td>\n",
       "      <td>26.2606</td>\n",
       "      <td>58.9206</td>\n",
       "    </tr>\n",
       "    <tr>\n",
       "      <th>9</th>\n",
       "      <td>0.0</td>\n",
       "      <td>1</td>\n",
       "      <td>-0.997227</td>\n",
       "      <td>12.8573</td>\n",
       "      <td>13.4912</td>\n",
       "      <td>13.3364</td>\n",
       "      <td>8.03989</td>\n",
       "      <td>8.73937</td>\n",
       "      <td>26.2626</td>\n",
       "      <td>58.9103</td>\n",
       "    </tr>\n",
       "    <tr>\n",
       "      <th>10</th>\n",
       "      <td>0.0</td>\n",
       "      <td>1</td>\n",
       "      <td>-0.996948</td>\n",
       "      <td>12.8569</td>\n",
       "      <td>13.4913</td>\n",
       "      <td>13.3359</td>\n",
       "      <td>8.03970</td>\n",
       "      <td>8.73956</td>\n",
       "      <td>26.2643</td>\n",
       "      <td>58.9010</td>\n",
       "    </tr>\n",
       "    <tr>\n",
       "      <th>11</th>\n",
       "      <td>0.0</td>\n",
       "      <td>1</td>\n",
       "      <td>-0.996670</td>\n",
       "      <td>12.8565</td>\n",
       "      <td>13.4911</td>\n",
       "      <td>13.3356</td>\n",
       "      <td>8.03968</td>\n",
       "      <td>8.73958</td>\n",
       "      <td>26.2658</td>\n",
       "      <td>58.8926</td>\n",
       "    </tr>\n",
       "    <tr>\n",
       "      <th>12</th>\n",
       "      <td>0.0</td>\n",
       "      <td>1</td>\n",
       "      <td>-0.996392</td>\n",
       "      <td>12.8569</td>\n",
       "      <td>13.4912</td>\n",
       "      <td>13.3352</td>\n",
       "      <td>8.03951</td>\n",
       "      <td>8.73945</td>\n",
       "      <td>26.2671</td>\n",
       "      <td>58.8850</td>\n",
       "    </tr>\n",
       "    <tr>\n",
       "      <th>13</th>\n",
       "      <td>0.0</td>\n",
       "      <td>1</td>\n",
       "      <td>-0.996114</td>\n",
       "      <td>12.8563</td>\n",
       "      <td>13.4915</td>\n",
       "      <td>13.3350</td>\n",
       "      <td>8.03951</td>\n",
       "      <td>8.73978</td>\n",
       "      <td>26.2683</td>\n",
       "      <td>58.8781</td>\n",
       "    </tr>\n",
       "    <tr>\n",
       "      <th>14</th>\n",
       "      <td>0.0</td>\n",
       "      <td>1</td>\n",
       "      <td>-0.995826</td>\n",
       "      <td>12.8558</td>\n",
       "      <td>13.4918</td>\n",
       "      <td>13.3346</td>\n",
       "      <td>8.03950</td>\n",
       "      <td>8.73994</td>\n",
       "      <td>26.2695</td>\n",
       "      <td>58.8719</td>\n",
       "    </tr>\n",
       "    <tr>\n",
       "      <th>15</th>\n",
       "      <td>0.0</td>\n",
       "      <td>1</td>\n",
       "      <td>-0.995548</td>\n",
       "      <td>12.8553</td>\n",
       "      <td>13.4918</td>\n",
       "      <td>13.3347</td>\n",
       "      <td>8.03964</td>\n",
       "      <td>8.74023</td>\n",
       "      <td>26.2705</td>\n",
       "      <td>58.8663</td>\n",
       "    </tr>\n",
       "    <tr>\n",
       "      <th>16</th>\n",
       "      <td>0.0</td>\n",
       "      <td>1</td>\n",
       "      <td>-0.995270</td>\n",
       "      <td>12.8549</td>\n",
       "      <td>13.4921</td>\n",
       "      <td>13.3344</td>\n",
       "      <td>8.03948</td>\n",
       "      <td>8.74003</td>\n",
       "      <td>26.2708</td>\n",
       "      <td>58.8612</td>\n",
       "    </tr>\n",
       "    <tr>\n",
       "      <th>17</th>\n",
       "      <td>0.0</td>\n",
       "      <td>1</td>\n",
       "      <td>-0.994992</td>\n",
       "      <td>12.8550</td>\n",
       "      <td>13.4921</td>\n",
       "      <td>13.3347</td>\n",
       "      <td>8.03947</td>\n",
       "      <td>8.74047</td>\n",
       "      <td>26.2707</td>\n",
       "      <td>58.8566</td>\n",
       "    </tr>\n",
       "    <tr>\n",
       "      <th>18</th>\n",
       "      <td>0.0</td>\n",
       "      <td>1</td>\n",
       "      <td>-0.994714</td>\n",
       "      <td>12.8550</td>\n",
       "      <td>13.4921</td>\n",
       "      <td>13.3344</td>\n",
       "      <td>8.03947</td>\n",
       "      <td>8.74040</td>\n",
       "      <td>26.2707</td>\n",
       "      <td>58.8524</td>\n",
       "    </tr>\n",
       "    <tr>\n",
       "      <th>19</th>\n",
       "      <td>0.0</td>\n",
       "      <td>1</td>\n",
       "      <td>-0.994425</td>\n",
       "      <td>12.8546</td>\n",
       "      <td>13.4918</td>\n",
       "      <td>13.3340</td>\n",
       "      <td>8.03947</td>\n",
       "      <td>8.74050</td>\n",
       "      <td>26.2706</td>\n",
       "      <td>58.8487</td>\n",
       "    </tr>\n",
       "    <tr>\n",
       "      <th>20</th>\n",
       "      <td>0.0</td>\n",
       "      <td>1</td>\n",
       "      <td>-0.994147</td>\n",
       "      <td>12.8543</td>\n",
       "      <td>13.4925</td>\n",
       "      <td>13.3342</td>\n",
       "      <td>8.03932</td>\n",
       "      <td>8.74058</td>\n",
       "      <td>26.2706</td>\n",
       "      <td>58.8452</td>\n",
       "    </tr>\n",
       "    <tr>\n",
       "      <th>21</th>\n",
       "      <td>0.0</td>\n",
       "      <td>1</td>\n",
       "      <td>-0.993869</td>\n",
       "      <td>12.8539</td>\n",
       "      <td>13.4932</td>\n",
       "      <td>13.3339</td>\n",
       "      <td>8.03919</td>\n",
       "      <td>8.74051</td>\n",
       "      <td>26.2705</td>\n",
       "      <td>58.8422</td>\n",
       "    </tr>\n",
       "    <tr>\n",
       "      <th>22</th>\n",
       "      <td>0.0</td>\n",
       "      <td>1</td>\n",
       "      <td>-0.993591</td>\n",
       "      <td>12.8537</td>\n",
       "      <td>13.4933</td>\n",
       "      <td>13.3345</td>\n",
       "      <td>8.03907</td>\n",
       "      <td>8.74075</td>\n",
       "      <td>26.2705</td>\n",
       "      <td>58.8394</td>\n",
       "    </tr>\n",
       "    <tr>\n",
       "      <th>23</th>\n",
       "      <td>0.0</td>\n",
       "      <td>1</td>\n",
       "      <td>-0.993313</td>\n",
       "      <td>12.8541</td>\n",
       "      <td>13.4937</td>\n",
       "      <td>13.3342</td>\n",
       "      <td>8.03897</td>\n",
       "      <td>8.74019</td>\n",
       "      <td>26.2707</td>\n",
       "      <td>58.8368</td>\n",
       "    </tr>\n",
       "    <tr>\n",
       "      <th>24</th>\n",
       "      <td>0.0</td>\n",
       "      <td>1</td>\n",
       "      <td>-0.993024</td>\n",
       "      <td>12.8545</td>\n",
       "      <td>13.4940</td>\n",
       "      <td>13.3339</td>\n",
       "      <td>8.03887</td>\n",
       "      <td>8.73969</td>\n",
       "      <td>26.2709</td>\n",
       "      <td>58.8345</td>\n",
       "    </tr>\n",
       "    <tr>\n",
       "      <th>25</th>\n",
       "      <td>0.0</td>\n",
       "      <td>1</td>\n",
       "      <td>-0.991067</td>\n",
       "      <td>12.8663</td>\n",
       "      <td>13.5209</td>\n",
       "      <td>13.3484</td>\n",
       "      <td>8.04149</td>\n",
       "      <td>8.74401</td>\n",
       "      <td>26.2594</td>\n",
       "      <td>58.8502</td>\n",
       "    </tr>\n",
       "    <tr>\n",
       "      <th>26</th>\n",
       "      <td>0.0</td>\n",
       "      <td>1</td>\n",
       "      <td>-0.954731</td>\n",
       "      <td>12.8765</td>\n",
       "      <td>13.5451</td>\n",
       "      <td>13.3614</td>\n",
       "      <td>8.04401</td>\n",
       "      <td>8.74792</td>\n",
       "      <td>26.2490</td>\n",
       "      <td>58.8643</td>\n",
       "    </tr>\n",
       "    <tr>\n",
       "      <th>27</th>\n",
       "      <td>0.0</td>\n",
       "      <td>1</td>\n",
       "      <td>-0.954453</td>\n",
       "      <td>12.8858</td>\n",
       "      <td>13.5666</td>\n",
       "      <td>13.3733</td>\n",
       "      <td>8.04642</td>\n",
       "      <td>8.75192</td>\n",
       "      <td>26.2386</td>\n",
       "      <td>58.8762</td>\n",
       "    </tr>\n",
       "    <tr>\n",
       "      <th>28</th>\n",
       "      <td>0.0</td>\n",
       "      <td>1</td>\n",
       "      <td>-0.954175</td>\n",
       "      <td>12.8939</td>\n",
       "      <td>13.5864</td>\n",
       "      <td>13.3844</td>\n",
       "      <td>8.04847</td>\n",
       "      <td>8.75539</td>\n",
       "      <td>26.2292</td>\n",
       "      <td>58.8849</td>\n",
       "    </tr>\n",
       "    <tr>\n",
       "      <th>29</th>\n",
       "      <td>0.0</td>\n",
       "      <td>1</td>\n",
       "      <td>-0.953897</td>\n",
       "      <td>12.9018</td>\n",
       "      <td>13.6043</td>\n",
       "      <td>13.3944</td>\n",
       "      <td>8.05046</td>\n",
       "      <td>8.75867</td>\n",
       "      <td>26.2207</td>\n",
       "      <td>58.8928</td>\n",
       "    </tr>\n",
       "    <tr>\n",
       "      <th>...</th>\n",
       "      <td>...</td>\n",
       "      <td>...</td>\n",
       "      <td>...</td>\n",
       "      <td>...</td>\n",
       "      <td>...</td>\n",
       "      <td>...</td>\n",
       "      <td>...</td>\n",
       "      <td>...</td>\n",
       "      <td>...</td>\n",
       "      <td>...</td>\n",
       "    </tr>\n",
       "    <tr>\n",
       "      <th>928961</th>\n",
       "      <td>98.0</td>\n",
       "      <td>2</td>\n",
       "      <td>1.668209</td>\n",
       "      <td>12.6217</td>\n",
       "      <td>12.6447</td>\n",
       "      <td>17.2882</td>\n",
       "      <td>6.20544</td>\n",
       "      <td>7.05903</td>\n",
       "      <td>27.7987</td>\n",
       "      <td>53.9362</td>\n",
       "    </tr>\n",
       "    <tr>\n",
       "      <th>928962</th>\n",
       "      <td>98.0</td>\n",
       "      <td>2</td>\n",
       "      <td>1.668487</td>\n",
       "      <td>12.6214</td>\n",
       "      <td>12.6451</td>\n",
       "      <td>17.2885</td>\n",
       "      <td>6.20542</td>\n",
       "      <td>7.05910</td>\n",
       "      <td>27.7903</td>\n",
       "      <td>53.9550</td>\n",
       "    </tr>\n",
       "    <tr>\n",
       "      <th>928963</th>\n",
       "      <td>98.0</td>\n",
       "      <td>2</td>\n",
       "      <td>1.668765</td>\n",
       "      <td>12.6211</td>\n",
       "      <td>12.6457</td>\n",
       "      <td>17.2900</td>\n",
       "      <td>6.20551</td>\n",
       "      <td>7.05917</td>\n",
       "      <td>27.7826</td>\n",
       "      <td>53.9719</td>\n",
       "    </tr>\n",
       "    <tr>\n",
       "      <th>928964</th>\n",
       "      <td>98.0</td>\n",
       "      <td>2</td>\n",
       "      <td>1.669043</td>\n",
       "      <td>12.6208</td>\n",
       "      <td>12.6460</td>\n",
       "      <td>17.2891</td>\n",
       "      <td>6.20547</td>\n",
       "      <td>7.05922</td>\n",
       "      <td>27.7757</td>\n",
       "      <td>53.9873</td>\n",
       "    </tr>\n",
       "    <tr>\n",
       "      <th>928965</th>\n",
       "      <td>98.0</td>\n",
       "      <td>2</td>\n",
       "      <td>1.669329</td>\n",
       "      <td>12.6205</td>\n",
       "      <td>12.6458</td>\n",
       "      <td>17.2896</td>\n",
       "      <td>6.20544</td>\n",
       "      <td>7.05928</td>\n",
       "      <td>27.7695</td>\n",
       "      <td>54.0012</td>\n",
       "    </tr>\n",
       "    <tr>\n",
       "      <th>928966</th>\n",
       "      <td>98.0</td>\n",
       "      <td>2</td>\n",
       "      <td>1.669607</td>\n",
       "      <td>12.6203</td>\n",
       "      <td>12.6459</td>\n",
       "      <td>17.2901</td>\n",
       "      <td>6.20530</td>\n",
       "      <td>7.05907</td>\n",
       "      <td>27.7638</td>\n",
       "      <td>54.0167</td>\n",
       "    </tr>\n",
       "    <tr>\n",
       "      <th>928967</th>\n",
       "      <td>98.0</td>\n",
       "      <td>2</td>\n",
       "      <td>1.669885</td>\n",
       "      <td>12.6201</td>\n",
       "      <td>12.6461</td>\n",
       "      <td>17.2905</td>\n",
       "      <td>6.20528</td>\n",
       "      <td>7.05914</td>\n",
       "      <td>27.7587</td>\n",
       "      <td>54.0308</td>\n",
       "    </tr>\n",
       "    <tr>\n",
       "      <th>928968</th>\n",
       "      <td>98.0</td>\n",
       "      <td>2</td>\n",
       "      <td>1.670163</td>\n",
       "      <td>12.6199</td>\n",
       "      <td>12.6466</td>\n",
       "      <td>17.2915</td>\n",
       "      <td>6.20539</td>\n",
       "      <td>7.05920</td>\n",
       "      <td>27.7540</td>\n",
       "      <td>54.0435</td>\n",
       "    </tr>\n",
       "    <tr>\n",
       "      <th>928969</th>\n",
       "      <td>98.0</td>\n",
       "      <td>2</td>\n",
       "      <td>1.670441</td>\n",
       "      <td>12.6198</td>\n",
       "      <td>12.6468</td>\n",
       "      <td>17.2918</td>\n",
       "      <td>6.20525</td>\n",
       "      <td>7.05939</td>\n",
       "      <td>27.7498</td>\n",
       "      <td>54.0550</td>\n",
       "    </tr>\n",
       "    <tr>\n",
       "      <th>928970</th>\n",
       "      <td>98.0</td>\n",
       "      <td>2</td>\n",
       "      <td>1.670719</td>\n",
       "      <td>12.6201</td>\n",
       "      <td>12.6468</td>\n",
       "      <td>17.2914</td>\n",
       "      <td>6.20501</td>\n",
       "      <td>7.05930</td>\n",
       "      <td>27.7461</td>\n",
       "      <td>54.0654</td>\n",
       "    </tr>\n",
       "    <tr>\n",
       "      <th>928971</th>\n",
       "      <td>98.0</td>\n",
       "      <td>2</td>\n",
       "      <td>1.670997</td>\n",
       "      <td>12.6199</td>\n",
       "      <td>12.6467</td>\n",
       "      <td>17.2913</td>\n",
       "      <td>6.20491</td>\n",
       "      <td>7.05922</td>\n",
       "      <td>27.7426</td>\n",
       "      <td>54.0749</td>\n",
       "    </tr>\n",
       "    <tr>\n",
       "      <th>928972</th>\n",
       "      <td>98.0</td>\n",
       "      <td>2</td>\n",
       "      <td>1.671276</td>\n",
       "      <td>12.6197</td>\n",
       "      <td>12.6472</td>\n",
       "      <td>17.2926</td>\n",
       "      <td>6.20505</td>\n",
       "      <td>7.05927</td>\n",
       "      <td>27.7399</td>\n",
       "      <td>54.0834</td>\n",
       "    </tr>\n",
       "    <tr>\n",
       "      <th>928973</th>\n",
       "      <td>98.0</td>\n",
       "      <td>2</td>\n",
       "      <td>1.671554</td>\n",
       "      <td>12.6202</td>\n",
       "      <td>12.6475</td>\n",
       "      <td>17.2928</td>\n",
       "      <td>6.20506</td>\n",
       "      <td>7.05945</td>\n",
       "      <td>27.7380</td>\n",
       "      <td>54.0941</td>\n",
       "    </tr>\n",
       "    <tr>\n",
       "      <th>928974</th>\n",
       "      <td>98.0</td>\n",
       "      <td>2</td>\n",
       "      <td>1.671832</td>\n",
       "      <td>12.6200</td>\n",
       "      <td>12.6477</td>\n",
       "      <td>17.2936</td>\n",
       "      <td>6.20507</td>\n",
       "      <td>7.05948</td>\n",
       "      <td>27.7363</td>\n",
       "      <td>54.1038</td>\n",
       "    </tr>\n",
       "    <tr>\n",
       "      <th>928975</th>\n",
       "      <td>98.0</td>\n",
       "      <td>2</td>\n",
       "      <td>1.672110</td>\n",
       "      <td>12.6201</td>\n",
       "      <td>12.6480</td>\n",
       "      <td>17.2937</td>\n",
       "      <td>6.20496</td>\n",
       "      <td>7.05964</td>\n",
       "      <td>27.7348</td>\n",
       "      <td>54.1126</td>\n",
       "    </tr>\n",
       "    <tr>\n",
       "      <th>928976</th>\n",
       "      <td>98.0</td>\n",
       "      <td>2</td>\n",
       "      <td>1.672388</td>\n",
       "      <td>12.6199</td>\n",
       "      <td>12.6478</td>\n",
       "      <td>17.2931</td>\n",
       "      <td>6.20475</td>\n",
       "      <td>7.05978</td>\n",
       "      <td>27.7333</td>\n",
       "      <td>54.1205</td>\n",
       "    </tr>\n",
       "    <tr>\n",
       "      <th>928977</th>\n",
       "      <td>98.0</td>\n",
       "      <td>2</td>\n",
       "      <td>1.672666</td>\n",
       "      <td>12.6202</td>\n",
       "      <td>12.6482</td>\n",
       "      <td>17.2935</td>\n",
       "      <td>6.20479</td>\n",
       "      <td>7.05978</td>\n",
       "      <td>27.7321</td>\n",
       "      <td>54.1277</td>\n",
       "    </tr>\n",
       "    <tr>\n",
       "      <th>928978</th>\n",
       "      <td>98.0</td>\n",
       "      <td>2</td>\n",
       "      <td>1.672944</td>\n",
       "      <td>12.6200</td>\n",
       "      <td>12.6484</td>\n",
       "      <td>17.2930</td>\n",
       "      <td>6.20482</td>\n",
       "      <td>7.05966</td>\n",
       "      <td>27.7309</td>\n",
       "      <td>54.1342</td>\n",
       "    </tr>\n",
       "    <tr>\n",
       "      <th>928979</th>\n",
       "      <td>98.0</td>\n",
       "      <td>2</td>\n",
       "      <td>1.673222</td>\n",
       "      <td>12.6198</td>\n",
       "      <td>12.6485</td>\n",
       "      <td>17.2928</td>\n",
       "      <td>6.20474</td>\n",
       "      <td>7.05967</td>\n",
       "      <td>27.7299</td>\n",
       "      <td>54.1401</td>\n",
       "    </tr>\n",
       "    <tr>\n",
       "      <th>928980</th>\n",
       "      <td>98.0</td>\n",
       "      <td>2</td>\n",
       "      <td>1.673502</td>\n",
       "      <td>12.6197</td>\n",
       "      <td>12.6483</td>\n",
       "      <td>17.2923</td>\n",
       "      <td>6.20466</td>\n",
       "      <td>7.05955</td>\n",
       "      <td>27.7289</td>\n",
       "      <td>54.1454</td>\n",
       "    </tr>\n",
       "    <tr>\n",
       "      <th>928981</th>\n",
       "      <td>98.0</td>\n",
       "      <td>2</td>\n",
       "      <td>1.673780</td>\n",
       "      <td>12.6195</td>\n",
       "      <td>12.6481</td>\n",
       "      <td>17.2918</td>\n",
       "      <td>6.20459</td>\n",
       "      <td>7.05958</td>\n",
       "      <td>27.7281</td>\n",
       "      <td>54.1502</td>\n",
       "    </tr>\n",
       "    <tr>\n",
       "      <th>928982</th>\n",
       "      <td>98.0</td>\n",
       "      <td>2</td>\n",
       "      <td>1.674058</td>\n",
       "      <td>12.6198</td>\n",
       "      <td>12.6484</td>\n",
       "      <td>17.2927</td>\n",
       "      <td>6.20465</td>\n",
       "      <td>7.05960</td>\n",
       "      <td>27.7273</td>\n",
       "      <td>54.1545</td>\n",
       "    </tr>\n",
       "    <tr>\n",
       "      <th>928983</th>\n",
       "      <td>98.0</td>\n",
       "      <td>2</td>\n",
       "      <td>1.674336</td>\n",
       "      <td>12.6206</td>\n",
       "      <td>12.6484</td>\n",
       "      <td>17.2929</td>\n",
       "      <td>6.20470</td>\n",
       "      <td>7.05962</td>\n",
       "      <td>27.7266</td>\n",
       "      <td>54.1585</td>\n",
       "    </tr>\n",
       "    <tr>\n",
       "      <th>928984</th>\n",
       "      <td>98.0</td>\n",
       "      <td>2</td>\n",
       "      <td>1.674614</td>\n",
       "      <td>12.6215</td>\n",
       "      <td>12.6487</td>\n",
       "      <td>17.2933</td>\n",
       "      <td>6.20474</td>\n",
       "      <td>7.05976</td>\n",
       "      <td>27.7260</td>\n",
       "      <td>54.1620</td>\n",
       "    </tr>\n",
       "    <tr>\n",
       "      <th>928985</th>\n",
       "      <td>98.0</td>\n",
       "      <td>2</td>\n",
       "      <td>1.674904</td>\n",
       "      <td>12.6212</td>\n",
       "      <td>12.6487</td>\n",
       "      <td>17.2931</td>\n",
       "      <td>6.20455</td>\n",
       "      <td>7.05951</td>\n",
       "      <td>27.7254</td>\n",
       "      <td>54.1653</td>\n",
       "    </tr>\n",
       "    <tr>\n",
       "      <th>928986</th>\n",
       "      <td>98.0</td>\n",
       "      <td>2</td>\n",
       "      <td>1.675182</td>\n",
       "      <td>12.6224</td>\n",
       "      <td>12.6498</td>\n",
       "      <td>17.2926</td>\n",
       "      <td>6.20449</td>\n",
       "      <td>7.05966</td>\n",
       "      <td>27.7282</td>\n",
       "      <td>54.1532</td>\n",
       "    </tr>\n",
       "    <tr>\n",
       "      <th>928987</th>\n",
       "      <td>98.0</td>\n",
       "      <td>2</td>\n",
       "      <td>1.675460</td>\n",
       "      <td>12.6236</td>\n",
       "      <td>12.6511</td>\n",
       "      <td>17.2918</td>\n",
       "      <td>6.20444</td>\n",
       "      <td>7.05980</td>\n",
       "      <td>27.7312</td>\n",
       "      <td>54.1423</td>\n",
       "    </tr>\n",
       "    <tr>\n",
       "      <th>928988</th>\n",
       "      <td>98.0</td>\n",
       "      <td>2</td>\n",
       "      <td>1.675738</td>\n",
       "      <td>12.6244</td>\n",
       "      <td>12.6524</td>\n",
       "      <td>17.2907</td>\n",
       "      <td>6.20451</td>\n",
       "      <td>7.05967</td>\n",
       "      <td>27.7339</td>\n",
       "      <td>54.1324</td>\n",
       "    </tr>\n",
       "    <tr>\n",
       "      <th>928989</th>\n",
       "      <td>98.0</td>\n",
       "      <td>2</td>\n",
       "      <td>1.676016</td>\n",
       "      <td>12.6243</td>\n",
       "      <td>12.6532</td>\n",
       "      <td>17.2904</td>\n",
       "      <td>6.20468</td>\n",
       "      <td>7.05969</td>\n",
       "      <td>27.7364</td>\n",
       "      <td>54.1235</td>\n",
       "    </tr>\n",
       "    <tr>\n",
       "      <th>928990</th>\n",
       "      <td>98.0</td>\n",
       "      <td>2</td>\n",
       "      <td>1.676304</td>\n",
       "      <td>12.6248</td>\n",
       "      <td>12.6539</td>\n",
       "      <td>17.2895</td>\n",
       "      <td>6.20461</td>\n",
       "      <td>7.05944</td>\n",
       "      <td>27.7385</td>\n",
       "      <td>54.1154</td>\n",
       "    </tr>\n",
       "  </tbody>\n",
       "</table>\n",
       "<p>928991 rows × 10 columns</p>\n",
       "</div>"
      ],
      "text/plain": [
       "          ID  Class      Time       R1       R5       R6       R7       R8  \\\n",
       "0        0.0      1 -0.999750  12.8621  13.4931  13.3423  8.04169  8.73901   \n",
       "1        0.0      1 -0.999472  12.8617  13.4927  13.3412  8.04133  8.73908   \n",
       "2        0.0      1 -0.999194  12.8607  13.4924  13.3405  8.04101  8.73915   \n",
       "3        0.0      1 -0.998916  12.8602  13.4921  13.3398  8.04086  8.73936   \n",
       "4        0.0      1 -0.998627  12.8595  13.4919  13.3390  8.04087  8.73986   \n",
       "5        0.0      1 -0.998349  12.8594  13.4921  13.3382  8.04088  8.74016   \n",
       "6        0.0      1 -0.998071  12.8595  13.4919  13.3377  8.04060  8.74013   \n",
       "7        0.0      1 -0.997793  12.8587  13.4916  13.3371  8.04063  8.73963   \n",
       "8        0.0      1 -0.997515  12.8579  13.4914  13.3365  8.04009  8.73949   \n",
       "9        0.0      1 -0.997227  12.8573  13.4912  13.3364  8.03989  8.73937   \n",
       "10       0.0      1 -0.996948  12.8569  13.4913  13.3359  8.03970  8.73956   \n",
       "11       0.0      1 -0.996670  12.8565  13.4911  13.3356  8.03968  8.73958   \n",
       "12       0.0      1 -0.996392  12.8569  13.4912  13.3352  8.03951  8.73945   \n",
       "13       0.0      1 -0.996114  12.8563  13.4915  13.3350  8.03951  8.73978   \n",
       "14       0.0      1 -0.995826  12.8558  13.4918  13.3346  8.03950  8.73994   \n",
       "15       0.0      1 -0.995548  12.8553  13.4918  13.3347  8.03964  8.74023   \n",
       "16       0.0      1 -0.995270  12.8549  13.4921  13.3344  8.03948  8.74003   \n",
       "17       0.0      1 -0.994992  12.8550  13.4921  13.3347  8.03947  8.74047   \n",
       "18       0.0      1 -0.994714  12.8550  13.4921  13.3344  8.03947  8.74040   \n",
       "19       0.0      1 -0.994425  12.8546  13.4918  13.3340  8.03947  8.74050   \n",
       "20       0.0      1 -0.994147  12.8543  13.4925  13.3342  8.03932  8.74058   \n",
       "21       0.0      1 -0.993869  12.8539  13.4932  13.3339  8.03919  8.74051   \n",
       "22       0.0      1 -0.993591  12.8537  13.4933  13.3345  8.03907  8.74075   \n",
       "23       0.0      1 -0.993313  12.8541  13.4937  13.3342  8.03897  8.74019   \n",
       "24       0.0      1 -0.993024  12.8545  13.4940  13.3339  8.03887  8.73969   \n",
       "25       0.0      1 -0.991067  12.8663  13.5209  13.3484  8.04149  8.74401   \n",
       "26       0.0      1 -0.954731  12.8765  13.5451  13.3614  8.04401  8.74792   \n",
       "27       0.0      1 -0.954453  12.8858  13.5666  13.3733  8.04642  8.75192   \n",
       "28       0.0      1 -0.954175  12.8939  13.5864  13.3844  8.04847  8.75539   \n",
       "29       0.0      1 -0.953897  12.9018  13.6043  13.3944  8.05046  8.75867   \n",
       "...      ...    ...       ...      ...      ...      ...      ...      ...   \n",
       "928961  98.0      2  1.668209  12.6217  12.6447  17.2882  6.20544  7.05903   \n",
       "928962  98.0      2  1.668487  12.6214  12.6451  17.2885  6.20542  7.05910   \n",
       "928963  98.0      2  1.668765  12.6211  12.6457  17.2900  6.20551  7.05917   \n",
       "928964  98.0      2  1.669043  12.6208  12.6460  17.2891  6.20547  7.05922   \n",
       "928965  98.0      2  1.669329  12.6205  12.6458  17.2896  6.20544  7.05928   \n",
       "928966  98.0      2  1.669607  12.6203  12.6459  17.2901  6.20530  7.05907   \n",
       "928967  98.0      2  1.669885  12.6201  12.6461  17.2905  6.20528  7.05914   \n",
       "928968  98.0      2  1.670163  12.6199  12.6466  17.2915  6.20539  7.05920   \n",
       "928969  98.0      2  1.670441  12.6198  12.6468  17.2918  6.20525  7.05939   \n",
       "928970  98.0      2  1.670719  12.6201  12.6468  17.2914  6.20501  7.05930   \n",
       "928971  98.0      2  1.670997  12.6199  12.6467  17.2913  6.20491  7.05922   \n",
       "928972  98.0      2  1.671276  12.6197  12.6472  17.2926  6.20505  7.05927   \n",
       "928973  98.0      2  1.671554  12.6202  12.6475  17.2928  6.20506  7.05945   \n",
       "928974  98.0      2  1.671832  12.6200  12.6477  17.2936  6.20507  7.05948   \n",
       "928975  98.0      2  1.672110  12.6201  12.6480  17.2937  6.20496  7.05964   \n",
       "928976  98.0      2  1.672388  12.6199  12.6478  17.2931  6.20475  7.05978   \n",
       "928977  98.0      2  1.672666  12.6202  12.6482  17.2935  6.20479  7.05978   \n",
       "928978  98.0      2  1.672944  12.6200  12.6484  17.2930  6.20482  7.05966   \n",
       "928979  98.0      2  1.673222  12.6198  12.6485  17.2928  6.20474  7.05967   \n",
       "928980  98.0      2  1.673502  12.6197  12.6483  17.2923  6.20466  7.05955   \n",
       "928981  98.0      2  1.673780  12.6195  12.6481  17.2918  6.20459  7.05958   \n",
       "928982  98.0      2  1.674058  12.6198  12.6484  17.2927  6.20465  7.05960   \n",
       "928983  98.0      2  1.674336  12.6206  12.6484  17.2929  6.20470  7.05962   \n",
       "928984  98.0      2  1.674614  12.6215  12.6487  17.2933  6.20474  7.05976   \n",
       "928985  98.0      2  1.674904  12.6212  12.6487  17.2931  6.20455  7.05951   \n",
       "928986  98.0      2  1.675182  12.6224  12.6498  17.2926  6.20449  7.05966   \n",
       "928987  98.0      2  1.675460  12.6236  12.6511  17.2918  6.20444  7.05980   \n",
       "928988  98.0      2  1.675738  12.6244  12.6524  17.2907  6.20451  7.05967   \n",
       "928989  98.0      2  1.676016  12.6243  12.6532  17.2904  6.20468  7.05969   \n",
       "928990  98.0      2  1.676304  12.6248  12.6539  17.2895  6.20461  7.05944   \n",
       "\n",
       "           Temp  Humidity  \n",
       "0       26.2257   59.0528  \n",
       "1       26.2308   59.0299  \n",
       "2       26.2365   59.0093  \n",
       "3       26.2416   58.9905  \n",
       "4       26.2462   58.9736  \n",
       "5       26.2503   58.9583  \n",
       "6       26.2541   58.9445  \n",
       "7       26.2575   58.9319  \n",
       "8       26.2606   58.9206  \n",
       "9       26.2626   58.9103  \n",
       "10      26.2643   58.9010  \n",
       "11      26.2658   58.8926  \n",
       "12      26.2671   58.8850  \n",
       "13      26.2683   58.8781  \n",
       "14      26.2695   58.8719  \n",
       "15      26.2705   58.8663  \n",
       "16      26.2708   58.8612  \n",
       "17      26.2707   58.8566  \n",
       "18      26.2707   58.8524  \n",
       "19      26.2706   58.8487  \n",
       "20      26.2706   58.8452  \n",
       "21      26.2705   58.8422  \n",
       "22      26.2705   58.8394  \n",
       "23      26.2707   58.8368  \n",
       "24      26.2709   58.8345  \n",
       "25      26.2594   58.8502  \n",
       "26      26.2490   58.8643  \n",
       "27      26.2386   58.8762  \n",
       "28      26.2292   58.8849  \n",
       "29      26.2207   58.8928  \n",
       "...         ...       ...  \n",
       "928961  27.7987   53.9362  \n",
       "928962  27.7903   53.9550  \n",
       "928963  27.7826   53.9719  \n",
       "928964  27.7757   53.9873  \n",
       "928965  27.7695   54.0012  \n",
       "928966  27.7638   54.0167  \n",
       "928967  27.7587   54.0308  \n",
       "928968  27.7540   54.0435  \n",
       "928969  27.7498   54.0550  \n",
       "928970  27.7461   54.0654  \n",
       "928971  27.7426   54.0749  \n",
       "928972  27.7399   54.0834  \n",
       "928973  27.7380   54.0941  \n",
       "928974  27.7363   54.1038  \n",
       "928975  27.7348   54.1126  \n",
       "928976  27.7333   54.1205  \n",
       "928977  27.7321   54.1277  \n",
       "928978  27.7309   54.1342  \n",
       "928979  27.7299   54.1401  \n",
       "928980  27.7289   54.1454  \n",
       "928981  27.7281   54.1502  \n",
       "928982  27.7273   54.1545  \n",
       "928983  27.7266   54.1585  \n",
       "928984  27.7260   54.1620  \n",
       "928985  27.7254   54.1653  \n",
       "928986  27.7282   54.1532  \n",
       "928987  27.7312   54.1423  \n",
       "928988  27.7339   54.1324  \n",
       "928989  27.7364   54.1235  \n",
       "928990  27.7385   54.1154  \n",
       "\n",
       "[928991 rows x 10 columns]"
      ]
     },
     "execution_count": 141,
     "metadata": {},
     "output_type": "execute_result"
    }
   ],
   "source": [
    "df_fulldata"
   ]
  },
  {
   "cell_type": "code",
   "execution_count": 29,
   "metadata": {},
   "outputs": [
    {
     "data": {
      "text/plain": [
       "array([[12.8621 , 10.3683 , 10.4383 , ...,  8.73901, 26.2257 , 59.0528 ],\n",
       "       [12.8617 , 10.3682 , 10.4375 , ...,  8.73908, 26.2308 , 59.0299 ],\n",
       "       [12.8607 , 10.3686 , 10.437  , ...,  8.73915, 26.2365 , 59.0093 ],\n",
       "       ...,\n",
       "       [12.6244 , 10.5795 , 10.7437 , ...,  7.05967, 27.7339 , 54.1324 ],\n",
       "       [12.6243 , 10.5797 , 10.744  , ...,  7.05969, 27.7364 , 54.1235 ],\n",
       "       [12.6248 , 10.5791 , 10.744  , ...,  7.05944, 27.7385 , 54.1154 ]])"
      ]
     },
     "execution_count": 29,
     "metadata": {},
     "output_type": "execute_result"
    }
   ],
   "source": [
    "data_val"
   ]
  },
  {
   "cell_type": "code",
   "execution_count": 23,
   "metadata": {},
   "outputs": [],
   "source": [
    "from sklearn.model_selection import train_test_split"
   ]
  },
  {
   "cell_type": "code",
   "execution_count": 30,
   "metadata": {},
   "outputs": [],
   "source": [
    "x_train, x_test, y_train, y_test = train_test_split(data_val, class_val, test_size = 0.2)   "
   ]
  },
  {
   "cell_type": "code",
   "execution_count": 31,
   "metadata": {},
   "outputs": [],
   "source": [
    "from sklearn.svm import SVC\n",
    "from sklearn.metrics import confusion_matrix"
   ]
  },
  {
   "cell_type": "code",
   "execution_count": 58,
   "metadata": {},
   "outputs": [
    {
     "name": "stderr",
     "output_type": "stream",
     "text": [
      "/home/nrvptl/.local/lib/python3.7/site-packages/sklearn/svm/base.py:196: FutureWarning: The default value of gamma will change from 'auto' to 'scale' in version 0.22 to account better for unscaled features. Set gamma explicitly to 'auto' or 'scale' to avoid this warning.\n",
      "  \"avoid this warning.\", FutureWarning)\n"
     ]
    },
    {
     "name": "stdout",
     "output_type": "stream",
     "text": [
      "0.9801344463640816\n"
     ]
    }
   ],
   "source": [
    "svc = SVC()\n",
    "svc.fit(x_train, y_train)\n",
    "prediction = svc.predict(x_test)\n",
    "cm = confusion_matrix(y_test, prediction)\n",
    "sum = 0\n",
    "for i in range(cm.shape[0]):\n",
    "    sum += cm[i][i]\n",
    "    \n",
    "accuracy = sum/x_test.shape[0]                \n",
    "print(accuracy)\n"
   ]
  },
  {
   "cell_type": "code",
   "execution_count": 59,
   "metadata": {},
   "outputs": [
    {
     "data": {
      "text/html": [
       "<div>\n",
       "<style scoped>\n",
       "    .dataframe tbody tr th:only-of-type {\n",
       "        vertical-align: middle;\n",
       "    }\n",
       "\n",
       "    .dataframe tbody tr th {\n",
       "        vertical-align: top;\n",
       "    }\n",
       "\n",
       "    .dataframe thead th {\n",
       "        text-align: right;\n",
       "    }\n",
       "</style>\n",
       "<table border=\"1\" class=\"dataframe\">\n",
       "  <thead>\n",
       "    <tr style=\"text-align: right;\">\n",
       "      <th></th>\n",
       "      <th>ID</th>\n",
       "      <th>Date</th>\n",
       "      <th>Class</th>\n",
       "      <th>t0</th>\n",
       "      <th>dt</th>\n",
       "      <th>Time</th>\n",
       "      <th>R1</th>\n",
       "      <th>R2</th>\n",
       "      <th>R3</th>\n",
       "      <th>R4</th>\n",
       "      <th>R5</th>\n",
       "      <th>R6</th>\n",
       "      <th>R7</th>\n",
       "      <th>R8</th>\n",
       "      <th>Temp</th>\n",
       "      <th>Humidity</th>\n",
       "    </tr>\n",
       "  </thead>\n",
       "  <tbody>\n",
       "    <tr>\n",
       "      <th>0</th>\n",
       "      <td>0</td>\n",
       "      <td>07-04-15</td>\n",
       "      <td>1</td>\n",
       "      <td>13.49</td>\n",
       "      <td>1.64</td>\n",
       "      <td>-0.999750</td>\n",
       "      <td>12.8621</td>\n",
       "      <td>10.3683</td>\n",
       "      <td>10.4383</td>\n",
       "      <td>11.6699</td>\n",
       "      <td>13.4931</td>\n",
       "      <td>13.3423</td>\n",
       "      <td>8.04169</td>\n",
       "      <td>8.73901</td>\n",
       "      <td>26.2257</td>\n",
       "      <td>59.0528</td>\n",
       "    </tr>\n",
       "    <tr>\n",
       "      <th>1</th>\n",
       "      <td>0</td>\n",
       "      <td>07-04-15</td>\n",
       "      <td>1</td>\n",
       "      <td>13.49</td>\n",
       "      <td>1.64</td>\n",
       "      <td>-0.999472</td>\n",
       "      <td>12.8617</td>\n",
       "      <td>10.3682</td>\n",
       "      <td>10.4375</td>\n",
       "      <td>11.6697</td>\n",
       "      <td>13.4927</td>\n",
       "      <td>13.3412</td>\n",
       "      <td>8.04133</td>\n",
       "      <td>8.73908</td>\n",
       "      <td>26.2308</td>\n",
       "      <td>59.0299</td>\n",
       "    </tr>\n",
       "    <tr>\n",
       "      <th>2</th>\n",
       "      <td>0</td>\n",
       "      <td>07-04-15</td>\n",
       "      <td>1</td>\n",
       "      <td>13.49</td>\n",
       "      <td>1.64</td>\n",
       "      <td>-0.999194</td>\n",
       "      <td>12.8607</td>\n",
       "      <td>10.3686</td>\n",
       "      <td>10.4370</td>\n",
       "      <td>11.6696</td>\n",
       "      <td>13.4924</td>\n",
       "      <td>13.3405</td>\n",
       "      <td>8.04101</td>\n",
       "      <td>8.73915</td>\n",
       "      <td>26.2365</td>\n",
       "      <td>59.0093</td>\n",
       "    </tr>\n",
       "    <tr>\n",
       "      <th>3</th>\n",
       "      <td>0</td>\n",
       "      <td>07-04-15</td>\n",
       "      <td>1</td>\n",
       "      <td>13.49</td>\n",
       "      <td>1.64</td>\n",
       "      <td>-0.998916</td>\n",
       "      <td>12.8602</td>\n",
       "      <td>10.3686</td>\n",
       "      <td>10.4370</td>\n",
       "      <td>11.6697</td>\n",
       "      <td>13.4921</td>\n",
       "      <td>13.3398</td>\n",
       "      <td>8.04086</td>\n",
       "      <td>8.73936</td>\n",
       "      <td>26.2416</td>\n",
       "      <td>58.9905</td>\n",
       "    </tr>\n",
       "    <tr>\n",
       "      <th>4</th>\n",
       "      <td>0</td>\n",
       "      <td>07-04-15</td>\n",
       "      <td>1</td>\n",
       "      <td>13.49</td>\n",
       "      <td>1.64</td>\n",
       "      <td>-0.998627</td>\n",
       "      <td>12.8595</td>\n",
       "      <td>10.3688</td>\n",
       "      <td>10.4374</td>\n",
       "      <td>11.6699</td>\n",
       "      <td>13.4919</td>\n",
       "      <td>13.3390</td>\n",
       "      <td>8.04087</td>\n",
       "      <td>8.73986</td>\n",
       "      <td>26.2462</td>\n",
       "      <td>58.9736</td>\n",
       "    </tr>\n",
       "  </tbody>\n",
       "</table>\n",
       "</div>"
      ],
      "text/plain": [
       "   ID      Date  Class     t0    dt      Time       R1       R2       R3  \\\n",
       "0   0  07-04-15      1  13.49  1.64 -0.999750  12.8621  10.3683  10.4383   \n",
       "1   0  07-04-15      1  13.49  1.64 -0.999472  12.8617  10.3682  10.4375   \n",
       "2   0  07-04-15      1  13.49  1.64 -0.999194  12.8607  10.3686  10.4370   \n",
       "3   0  07-04-15      1  13.49  1.64 -0.998916  12.8602  10.3686  10.4370   \n",
       "4   0  07-04-15      1  13.49  1.64 -0.998627  12.8595  10.3688  10.4374   \n",
       "\n",
       "        R4       R5       R6       R7       R8     Temp  Humidity  \n",
       "0  11.6699  13.4931  13.3423  8.04169  8.73901  26.2257   59.0528  \n",
       "1  11.6697  13.4927  13.3412  8.04133  8.73908  26.2308   59.0299  \n",
       "2  11.6696  13.4924  13.3405  8.04101  8.73915  26.2365   59.0093  \n",
       "3  11.6697  13.4921  13.3398  8.04086  8.73936  26.2416   58.9905  \n",
       "4  11.6699  13.4919  13.3390  8.04087  8.73986  26.2462   58.9736  "
      ]
     },
     "execution_count": 59,
     "metadata": {},
     "output_type": "execute_result"
    }
   ],
   "source": [
    "df_fulldata.head()"
   ]
  },
  {
   "cell_type": "code",
   "execution_count": 32,
   "metadata": {},
   "outputs": [],
   "source": [
    "df_fulldata.drop(['Date', 't0', 'dt'],axis = 1, inplace=True)"
   ]
  },
  {
   "cell_type": "code",
   "execution_count": 33,
   "metadata": {},
   "outputs": [],
   "source": [
    "corr = df_fulldata.corr()"
   ]
  },
  {
   "cell_type": "code",
   "execution_count": 34,
   "metadata": {},
   "outputs": [],
   "source": [
    "import seaborn as sns"
   ]
  },
  {
   "cell_type": "code",
   "execution_count": 35,
   "metadata": {},
   "outputs": [
    {
     "data": {
      "text/plain": [
       "<matplotlib.axes._subplots.AxesSubplot at 0x7fc1e51aeb38>"
      ]
     },
     "execution_count": 35,
     "metadata": {},
     "output_type": "execute_result"
    },
    {
     "data": {
      "image/png": "[encoded data removed]",
      "text/plain": [
       "<Figure size 432x288 with 2 Axes>"
      ]
     },
     "metadata": {
      "needs_background": "light"
     },
     "output_type": "display_data"
    }
   ],
   "source": [
    "sns.heatmap(corr)"
   ]
  },
  {
   "cell_type": "code",
   "execution_count": 36,
   "metadata": {},
   "outputs": [
    {
     "data": {
      "text/html": [
       "<div>\n",
       "<style scoped>\n",
       "    .dataframe tbody tr th:only-of-type {\n",
       "        vertical-align: middle;\n",
       "    }\n",
       "\n",
       "    .dataframe tbody tr th {\n",
       "        vertical-align: top;\n",
       "    }\n",
       "\n",
       "    .dataframe thead th {\n",
       "        text-align: right;\n",
       "    }\n",
       "</style>\n",
       "<table border=\"1\" class=\"dataframe\">\n",
       "  <thead>\n",
       "    <tr style=\"text-align: right;\">\n",
       "      <th></th>\n",
       "      <th>ID</th>\n",
       "      <th>Class</th>\n",
       "      <th>Time</th>\n",
       "      <th>R1</th>\n",
       "      <th>R2</th>\n",
       "      <th>R3</th>\n",
       "      <th>R4</th>\n",
       "      <th>R5</th>\n",
       "      <th>R6</th>\n",
       "      <th>R7</th>\n",
       "      <th>R8</th>\n",
       "      <th>Temp</th>\n",
       "      <th>Humidity</th>\n",
       "    </tr>\n",
       "  </thead>\n",
       "  <tbody>\n",
       "    <tr>\n",
       "      <th>ID</th>\n",
       "      <td>1.000000</td>\n",
       "      <td>0.653916</td>\n",
       "      <td>-0.056593</td>\n",
       "      <td>0.049594</td>\n",
       "      <td>0.118749</td>\n",
       "      <td>0.196694</td>\n",
       "      <td>0.152847</td>\n",
       "      <td>-0.061231</td>\n",
       "      <td>0.334091</td>\n",
       "      <td>0.098402</td>\n",
       "      <td>0.064075</td>\n",
       "      <td>0.223035</td>\n",
       "      <td>-0.055862</td>\n",
       "    </tr>\n",
       "    <tr>\n",
       "      <th>Class</th>\n",
       "      <td>0.653916</td>\n",
       "      <td>1.000000</td>\n",
       "      <td>-0.078356</td>\n",
       "      <td>0.208164</td>\n",
       "      <td>0.319272</td>\n",
       "      <td>0.351099</td>\n",
       "      <td>0.333775</td>\n",
       "      <td>-0.081953</td>\n",
       "      <td>0.043721</td>\n",
       "      <td>0.158807</td>\n",
       "      <td>0.136204</td>\n",
       "      <td>0.165092</td>\n",
       "      <td>-0.069220</td>\n",
       "    </tr>\n",
       "    <tr>\n",
       "      <th>Time</th>\n",
       "      <td>-0.056593</td>\n",
       "      <td>-0.078356</td>\n",
       "      <td>1.000000</td>\n",
       "      <td>0.044143</td>\n",
       "      <td>0.068856</td>\n",
       "      <td>0.012146</td>\n",
       "      <td>0.053263</td>\n",
       "      <td>-0.014165</td>\n",
       "      <td>0.135431</td>\n",
       "      <td>-0.038584</td>\n",
       "      <td>-0.034330</td>\n",
       "      <td>-0.096683</td>\n",
       "      <td>-0.098006</td>\n",
       "    </tr>\n",
       "    <tr>\n",
       "      <th>R1</th>\n",
       "      <td>0.049594</td>\n",
       "      <td>0.208164</td>\n",
       "      <td>0.044143</td>\n",
       "      <td>1.000000</td>\n",
       "      <td>0.829782</td>\n",
       "      <td>0.830017</td>\n",
       "      <td>0.815452</td>\n",
       "      <td>0.023163</td>\n",
       "      <td>0.179294</td>\n",
       "      <td>0.261193</td>\n",
       "      <td>0.210106</td>\n",
       "      <td>-0.061570</td>\n",
       "      <td>-0.197800</td>\n",
       "    </tr>\n",
       "    <tr>\n",
       "      <th>R2</th>\n",
       "      <td>0.118749</td>\n",
       "      <td>0.319272</td>\n",
       "      <td>0.068856</td>\n",
       "      <td>0.829782</td>\n",
       "      <td>1.000000</td>\n",
       "      <td>0.904101</td>\n",
       "      <td>0.970727</td>\n",
       "      <td>0.000083</td>\n",
       "      <td>0.179965</td>\n",
       "      <td>0.251888</td>\n",
       "      <td>0.212323</td>\n",
       "      <td>-0.071798</td>\n",
       "      <td>-0.197358</td>\n",
       "    </tr>\n",
       "    <tr>\n",
       "      <th>R3</th>\n",
       "      <td>0.196694</td>\n",
       "      <td>0.351099</td>\n",
       "      <td>0.012146</td>\n",
       "      <td>0.830017</td>\n",
       "      <td>0.904101</td>\n",
       "      <td>1.000000</td>\n",
       "      <td>0.938719</td>\n",
       "      <td>0.011904</td>\n",
       "      <td>0.230779</td>\n",
       "      <td>0.300779</td>\n",
       "      <td>0.247322</td>\n",
       "      <td>-0.005071</td>\n",
       "      <td>-0.164143</td>\n",
       "    </tr>\n",
       "    <tr>\n",
       "      <th>R4</th>\n",
       "      <td>0.152847</td>\n",
       "      <td>0.333775</td>\n",
       "      <td>0.053263</td>\n",
       "      <td>0.815452</td>\n",
       "      <td>0.970727</td>\n",
       "      <td>0.938719</td>\n",
       "      <td>1.000000</td>\n",
       "      <td>-0.001982</td>\n",
       "      <td>0.201893</td>\n",
       "      <td>0.269640</td>\n",
       "      <td>0.222034</td>\n",
       "      <td>-0.054750</td>\n",
       "      <td>-0.211453</td>\n",
       "    </tr>\n",
       "    <tr>\n",
       "      <th>R5</th>\n",
       "      <td>-0.061231</td>\n",
       "      <td>-0.081953</td>\n",
       "      <td>-0.014165</td>\n",
       "      <td>0.023163</td>\n",
       "      <td>0.000083</td>\n",
       "      <td>0.011904</td>\n",
       "      <td>-0.001982</td>\n",
       "      <td>1.000000</td>\n",
       "      <td>0.117357</td>\n",
       "      <td>0.184570</td>\n",
       "      <td>0.329771</td>\n",
       "      <td>-0.067408</td>\n",
       "      <td>0.001222</td>\n",
       "    </tr>\n",
       "    <tr>\n",
       "      <th>R6</th>\n",
       "      <td>0.334091</td>\n",
       "      <td>0.043721</td>\n",
       "      <td>0.135431</td>\n",
       "      <td>0.179294</td>\n",
       "      <td>0.179965</td>\n",
       "      <td>0.230779</td>\n",
       "      <td>0.201893</td>\n",
       "      <td>0.117357</td>\n",
       "      <td>1.000000</td>\n",
       "      <td>0.232124</td>\n",
       "      <td>0.237968</td>\n",
       "      <td>-0.085537</td>\n",
       "      <td>-0.009581</td>\n",
       "    </tr>\n",
       "    <tr>\n",
       "      <th>R7</th>\n",
       "      <td>0.098402</td>\n",
       "      <td>0.158807</td>\n",
       "      <td>-0.038584</td>\n",
       "      <td>0.261193</td>\n",
       "      <td>0.251888</td>\n",
       "      <td>0.300779</td>\n",
       "      <td>0.269640</td>\n",
       "      <td>0.184570</td>\n",
       "      <td>0.232124</td>\n",
       "      <td>1.000000</td>\n",
       "      <td>0.763631</td>\n",
       "      <td>-0.009134</td>\n",
       "      <td>-0.020658</td>\n",
       "    </tr>\n",
       "    <tr>\n",
       "      <th>R8</th>\n",
       "      <td>0.064075</td>\n",
       "      <td>0.136204</td>\n",
       "      <td>-0.034330</td>\n",
       "      <td>0.210106</td>\n",
       "      <td>0.212323</td>\n",
       "      <td>0.247322</td>\n",
       "      <td>0.222034</td>\n",
       "      <td>0.329771</td>\n",
       "      <td>0.237968</td>\n",
       "      <td>0.763631</td>\n",
       "      <td>1.000000</td>\n",
       "      <td>0.000779</td>\n",
       "      <td>0.016815</td>\n",
       "    </tr>\n",
       "    <tr>\n",
       "      <th>Temp</th>\n",
       "      <td>0.223035</td>\n",
       "      <td>0.165092</td>\n",
       "      <td>-0.096683</td>\n",
       "      <td>-0.061570</td>\n",
       "      <td>-0.071798</td>\n",
       "      <td>-0.005071</td>\n",
       "      <td>-0.054750</td>\n",
       "      <td>-0.067408</td>\n",
       "      <td>-0.085537</td>\n",
       "      <td>-0.009134</td>\n",
       "      <td>0.000779</td>\n",
       "      <td>1.000000</td>\n",
       "      <td>0.213209</td>\n",
       "    </tr>\n",
       "    <tr>\n",
       "      <th>Humidity</th>\n",
       "      <td>-0.055862</td>\n",
       "      <td>-0.069220</td>\n",
       "      <td>-0.098006</td>\n",
       "      <td>-0.197800</td>\n",
       "      <td>-0.197358</td>\n",
       "      <td>-0.164143</td>\n",
       "      <td>-0.211453</td>\n",
       "      <td>0.001222</td>\n",
       "      <td>-0.009581</td>\n",
       "      <td>-0.020658</td>\n",
       "      <td>0.016815</td>\n",
       "      <td>0.213209</td>\n",
       "      <td>1.000000</td>\n",
       "    </tr>\n",
       "  </tbody>\n",
       "</table>\n",
       "</div>"
      ],
      "text/plain": [
       "                ID     Class      Time        R1        R2        R3  \\\n",
       "ID        1.000000  0.653916 -0.056593  0.049594  0.118749  0.196694   \n",
       "Class     0.653916  1.000000 -0.078356  0.208164  0.319272  0.351099   \n",
       "Time     -0.056593 -0.078356  1.000000  0.044143  0.068856  0.012146   \n",
       "R1        0.049594  0.208164  0.044143  1.000000  0.829782  0.830017   \n",
       "R2        0.118749  0.319272  0.068856  0.829782  1.000000  0.904101   \n",
       "R3        0.196694  0.351099  0.012146  0.830017  0.904101  1.000000   \n",
       "R4        0.152847  0.333775  0.053263  0.815452  0.970727  0.938719   \n",
       "R5       -0.061231 -0.081953 -0.014165  0.023163  0.000083  0.011904   \n",
       "R6        0.334091  0.043721  0.135431  0.179294  0.179965  0.230779   \n",
       "R7        0.098402  0.158807 -0.038584  0.261193  0.251888  0.300779   \n",
       "R8        0.064075  0.136204 -0.034330  0.210106  0.212323  0.247322   \n",
       "Temp      0.223035  0.165092 -0.096683 -0.061570 -0.071798 -0.005071   \n",
       "Humidity -0.055862 -0.069220 -0.098006 -0.197800 -0.197358 -0.164143   \n",
       "\n",
       "                R4        R5        R6        R7        R8      Temp  Humidity  \n",
       "ID        0.152847 -0.061231  0.334091  0.098402  0.064075  0.223035 -0.055862  \n",
       "Class     0.333775 -0.081953  0.043721  0.158807  0.136204  0.165092 -0.069220  \n",
       "Time      0.053263 -0.014165  0.135431 -0.038584 -0.034330 -0.096683 -0.098006  \n",
       "R1        0.815452  0.023163  0.179294  0.261193  0.210106 -0.061570 -0.197800  \n",
       "R2        0.970727  0.000083  0.179965  0.251888  0.212323 -0.071798 -0.197358  \n",
       "R3        0.938719  0.011904  0.230779  0.300779  0.247322 -0.005071 -0.164143  \n",
       "R4        1.000000 -0.001982  0.201893  0.269640  0.222034 -0.054750 -0.211453  \n",
       "R5       -0.001982  1.000000  0.117357  0.184570  0.329771 -0.067408  0.001222  \n",
       "R6        0.201893  0.117357  1.000000  0.232124  0.237968 -0.085537 -0.009581  \n",
       "R7        0.269640  0.184570  0.232124  1.000000  0.763631 -0.009134 -0.020658  \n",
       "R8        0.222034  0.329771  0.237968  0.763631  1.000000  0.000779  0.016815  \n",
       "Temp     -0.054750 -0.067408 -0.085537 -0.009134  0.000779  1.000000  0.213209  \n",
       "Humidity -0.211453  0.001222 -0.009581 -0.020658  0.016815  0.213209  1.000000  "
      ]
     },
     "execution_count": 36,
     "metadata": {},
     "output_type": "execute_result"
    }
   ],
   "source": [
    "corr"
   ]
  },
  {
   "cell_type": "code",
   "execution_count": 37,
   "metadata": {},
   "outputs": [],
   "source": [
    "from sklearn.preprocessing import LabelEncoder, OneHotEncoder"
   ]
  },
  {
   "cell_type": "code",
   "execution_count": 38,
   "metadata": {},
   "outputs": [],
   "source": [
    "label_encoder = LabelEncoder()\n",
    "df_fulldata.iloc[:,0] = label_encoder.fit_transform(df_fulldata.iloc[:,0]).astype('float64')\n",
    "\n",
    "cols = np.full((corr.shape[0],), True, dtype=bool)\n",
    "for i in range(corr.shape[0]):\n",
    "    for j in range(i+1, corr.shape[0]):\n",
    "        if corr.iloc[i,j] >= 0.8:\n",
    "            if cols[j]:\n",
    "                cols[j] = False\n",
    "sel_cols = df_fulldata.columns[cols]\n",
    "df_fulldata = df_fulldata[sel_cols]"
   ]
  },
  {
   "cell_type": "code",
   "execution_count": 39,
   "metadata": {},
   "outputs": [],
   "source": [
    "sel_cols = sel_cols[1:].values\n",
    "import statsmodels.formula.api as sm"
   ]
  },
  {
   "cell_type": "code",
   "execution_count": 40,
   "metadata": {},
   "outputs": [],
   "source": [
    "def backwardElimination(x, Y, sl, columns):\n",
    "    numVars = len(x[0])\n",
    "    for i in range(0, numVars):\n",
    "        regressor_OLS = sm.OLS(Y, x).fit()\n",
    "        maxVar = max(regressor_OLS.pvalues).astype(float)\n",
    "        if maxVar > sl:\n",
    "            for j in range(0, numVars - i):\n",
    "                if (regressor_OLS.pvalues[j].astype(float) == maxVar):\n",
    "                    x = np.delete(x, j, 1)\n",
    "                    columns = np.delete(columns, j)\n",
    "                    \n",
    "    regressor_OLS.summary()\n",
    "    return x, columns"
   ]
  },
  {
   "cell_type": "code",
   "execution_count": 41,
   "metadata": {},
   "outputs": [],
   "source": [
    "SL = 0.05\n",
    "data_modeled, sel_cols = backwardElimination(df_fulldata.iloc[:,1:].values, df_fulldata.iloc[:,0].values, SL, sel_cols)"
   ]
  },
  {
   "cell_type": "code",
   "execution_count": 42,
   "metadata": {},
   "outputs": [],
   "source": [
    "result = pd.DataFrame()\n",
    "result['diagnosis'] = df_fulldata.iloc[:,0]"
   ]
  },
  {
   "cell_type": "code",
   "execution_count": 43,
   "metadata": {},
   "outputs": [],
   "source": [
    "data = pd.DataFrame(data = data_modeled, columns = sel_cols)"
   ]
  },
  {
   "cell_type": "code",
   "execution_count": 131,
   "metadata": {},
   "outputs": [
    {
     "data": {
      "text/plain": [
       "(928991, 1)"
      ]
     },
     "execution_count": 131,
     "metadata": {},
     "output_type": "execute_result"
    }
   ],
   "source": [
    "result.values.shape"
   ]
  },
  {
   "cell_type": "code",
   "execution_count": 132,
   "metadata": {},
   "outputs": [
    {
     "data": {
      "text/plain": [
       "pandas.core.frame.DataFrame"
      ]
     },
     "execution_count": 132,
     "metadata": {},
     "output_type": "execute_result"
    }
   ],
   "source": [
    "type(result)"
   ]
  },
  {
   "cell_type": "code",
   "execution_count": 134,
   "metadata": {},
   "outputs": [
    {
     "data": {
      "text/plain": [
       "(185799, 1)"
      ]
     },
     "execution_count": 134,
     "metadata": {},
     "output_type": "execute_result"
    }
   ],
   "source": [
    "y_test_fea.shape"
   ]
  },
  {
   "cell_type": "code",
   "execution_count": 135,
   "metadata": {},
   "outputs": [
    {
     "data": {
      "text/plain": [
       "(928991, 9)"
      ]
     },
     "execution_count": 135,
     "metadata": {},
     "output_type": "execute_result"
    }
   ],
   "source": [
    "data.values.shape"
   ]
  },
  {
   "cell_type": "code",
   "execution_count": 44,
   "metadata": {},
   "outputs": [
    {
     "data": {
      "text/html": [
       "<div>\n",
       "<style scoped>\n",
       "    .dataframe tbody tr th:only-of-type {\n",
       "        vertical-align: middle;\n",
       "    }\n",
       "\n",
       "    .dataframe tbody tr th {\n",
       "        vertical-align: top;\n",
       "    }\n",
       "\n",
       "    .dataframe thead th {\n",
       "        text-align: right;\n",
       "    }\n",
       "</style>\n",
       "<table border=\"1\" class=\"dataframe\">\n",
       "  <thead>\n",
       "    <tr style=\"text-align: right;\">\n",
       "      <th></th>\n",
       "      <th>Class</th>\n",
       "      <th>Time</th>\n",
       "      <th>R1</th>\n",
       "      <th>R5</th>\n",
       "      <th>R6</th>\n",
       "      <th>R7</th>\n",
       "      <th>R8</th>\n",
       "      <th>Temp</th>\n",
       "      <th>Humidity</th>\n",
       "    </tr>\n",
       "  </thead>\n",
       "  <tbody>\n",
       "    <tr>\n",
       "      <th>0</th>\n",
       "      <td>1.0</td>\n",
       "      <td>-0.999750</td>\n",
       "      <td>12.8621</td>\n",
       "      <td>13.4931</td>\n",
       "      <td>13.3423</td>\n",
       "      <td>8.04169</td>\n",
       "      <td>8.73901</td>\n",
       "      <td>26.2257</td>\n",
       "      <td>59.0528</td>\n",
       "    </tr>\n",
       "    <tr>\n",
       "      <th>1</th>\n",
       "      <td>1.0</td>\n",
       "      <td>-0.999472</td>\n",
       "      <td>12.8617</td>\n",
       "      <td>13.4927</td>\n",
       "      <td>13.3412</td>\n",
       "      <td>8.04133</td>\n",
       "      <td>8.73908</td>\n",
       "      <td>26.2308</td>\n",
       "      <td>59.0299</td>\n",
       "    </tr>\n",
       "    <tr>\n",
       "      <th>2</th>\n",
       "      <td>1.0</td>\n",
       "      <td>-0.999194</td>\n",
       "      <td>12.8607</td>\n",
       "      <td>13.4924</td>\n",
       "      <td>13.3405</td>\n",
       "      <td>8.04101</td>\n",
       "      <td>8.73915</td>\n",
       "      <td>26.2365</td>\n",
       "      <td>59.0093</td>\n",
       "    </tr>\n",
       "    <tr>\n",
       "      <th>3</th>\n",
       "      <td>1.0</td>\n",
       "      <td>-0.998916</td>\n",
       "      <td>12.8602</td>\n",
       "      <td>13.4921</td>\n",
       "      <td>13.3398</td>\n",
       "      <td>8.04086</td>\n",
       "      <td>8.73936</td>\n",
       "      <td>26.2416</td>\n",
       "      <td>58.9905</td>\n",
       "    </tr>\n",
       "    <tr>\n",
       "      <th>4</th>\n",
       "      <td>1.0</td>\n",
       "      <td>-0.998627</td>\n",
       "      <td>12.8595</td>\n",
       "      <td>13.4919</td>\n",
       "      <td>13.3390</td>\n",
       "      <td>8.04087</td>\n",
       "      <td>8.73986</td>\n",
       "      <td>26.2462</td>\n",
       "      <td>58.9736</td>\n",
       "    </tr>\n",
       "  </tbody>\n",
       "</table>\n",
       "</div>"
      ],
      "text/plain": [
       "   Class      Time       R1       R5       R6       R7       R8     Temp  \\\n",
       "0    1.0 -0.999750  12.8621  13.4931  13.3423  8.04169  8.73901  26.2257   \n",
       "1    1.0 -0.999472  12.8617  13.4927  13.3412  8.04133  8.73908  26.2308   \n",
       "2    1.0 -0.999194  12.8607  13.4924  13.3405  8.04101  8.73915  26.2365   \n",
       "3    1.0 -0.998916  12.8602  13.4921  13.3398  8.04086  8.73936  26.2416   \n",
       "4    1.0 -0.998627  12.8595  13.4919  13.3390  8.04087  8.73986  26.2462   \n",
       "\n",
       "   Humidity  \n",
       "0   59.0528  \n",
       "1   59.0299  \n",
       "2   59.0093  \n",
       "3   58.9905  \n",
       "4   58.9736  "
      ]
     },
     "execution_count": 44,
     "metadata": {},
     "output_type": "execute_result"
    }
   ],
   "source": [
    "data.head()"
   ]
  },
  {
   "cell_type": "code",
   "execution_count": 45,
   "metadata": {},
   "outputs": [],
   "source": [
    "x_train_fea, x_test_fea, y_train_fea, y_test_fea = train_test_split(data.values, result.values, test_size = 0.2)"
   ]
  },
  {
   "cell_type": "code",
   "execution_count": 106,
   "metadata": {},
   "outputs": [
    {
     "name": "stderr",
     "output_type": "stream",
     "text": [
      "/home/nrvptl/.local/lib/python3.7/site-packages/sklearn/utils/validation.py:761: DataConversionWarning: A column-vector y was passed when a 1d array was expected. Please change the shape of y to (n_samples, ), for example using ravel().\n",
      "  y = column_or_1d(y, warn=True)\n",
      "/home/nrvptl/.local/lib/python3.7/site-packages/sklearn/svm/base.py:196: FutureWarning: The default value of gamma will change from 'auto' to 'scale' in version 0.22 to account better for unscaled features. Set gamma explicitly to 'auto' or 'scale' to avoid this warning.\n",
      "  \"avoid this warning.\", FutureWarning)\n"
     ]
    },
    {
     "data": {
      "text/plain": [
       "SVC(C=1.0, cache_size=200, class_weight=None, coef0=0.0,\n",
       "  decision_function_shape='ovr', degree=3, gamma='auto_deprecated',\n",
       "  kernel='rbf', max_iter=-1, probability=False, random_state=None,\n",
       "  shrinking=True, tol=0.001, verbose=False)"
      ]
     },
     "execution_count": 106,
     "metadata": {},
     "output_type": "execute_result"
    }
   ],
   "source": [
    "svc=SVC() # The default kernel used by SVC is the gaussian kernel\n",
    "svc.fit(x_train_fea, y_train_fea)"
   ]
  },
  {
   "cell_type": "code",
   "execution_count": 107,
   "metadata": {},
   "outputs": [],
   "source": [
    "prediction = svc.predict(x_test_fea)"
   ]
  },
  {
   "cell_type": "code",
   "execution_count": 108,
   "metadata": {},
   "outputs": [
    {
     "name": "stdout",
     "output_type": "stream",
     "text": [
      "0.9997362741457166\n"
     ]
    }
   ],
   "source": [
    "cm = confusion_matrix(y_test_fea, prediction)\n",
    "sum = 0\n",
    "for i in range(cm.shape[0]):\n",
    "    sum += cm[i][i]\n",
    "    \n",
    "accuracy = sum/x_test.shape[0]\n",
    "print(accuracy)"
   ]
  },
  {
   "cell_type": "markdown",
   "metadata": {},
   "source": [
    "# Random Forest"
   ]
  },
  {
   "cell_type": "code",
   "execution_count": 36,
   "metadata": {},
   "outputs": [],
   "source": [
    "from sklearn.ensemble import RandomForestClassifier"
   ]
  },
  {
   "cell_type": "code",
   "execution_count": 37,
   "metadata": {},
   "outputs": [],
   "source": [
    "rf = RandomForestClassifier(n_estimators = 100)"
   ]
  },
  {
   "cell_type": "code",
   "execution_count": 43,
   "metadata": {},
   "outputs": [
    {
     "name": "stderr",
     "output_type": "stream",
     "text": [
      "/home/nrvptl/anaconda3/lib/python3.7/site-packages/ipykernel_launcher.py:1: DataConversionWarning: A column-vector y was passed when a 1d array was expected. Please change the shape of y to (n_samples,), for example using ravel().\n",
      "  \"\"\"Entry point for launching an IPython kernel.\n"
     ]
    },
    {
     "data": {
      "text/plain": [
       "RandomForestClassifier(bootstrap=True, class_weight=None, criterion='gini',\n",
       "            max_depth=None, max_features='auto', max_leaf_nodes=None,\n",
       "            min_impurity_decrease=0.0, min_impurity_split=None,\n",
       "            min_samples_leaf=1, min_samples_split=2,\n",
       "            min_weight_fraction_leaf=0.0, n_estimators=100, n_jobs=None,\n",
       "            oob_score=False, random_state=None, verbose=0,\n",
       "            warm_start=False)"
      ]
     },
     "execution_count": 43,
     "metadata": {},
     "output_type": "execute_result"
    }
   ],
   "source": [
    "rf.fit(x_train_fea, y_train_fea)"
   ]
  },
  {
   "cell_type": "code",
   "execution_count": 45,
   "metadata": {},
   "outputs": [],
   "source": [
    "prediction = rf.predict(x_test_fea)"
   ]
  },
  {
   "cell_type": "code",
   "execution_count": 46,
   "metadata": {},
   "outputs": [
    {
     "name": "stdout",
     "output_type": "stream",
     "text": [
      "0.999989235679417\n"
     ]
    }
   ],
   "source": [
    "cm = confusion_matrix(y_test_fea, prediction)\n",
    "sum = 0\n",
    "for i in range(cm.shape[0]):\n",
    "    sum += cm[i][i]\n",
    "    \n",
    "accuracy = sum/x_test.shape[0]\n",
    "print(accuracy)"
   ]
  },
  {
   "cell_type": "markdown",
   "metadata": {},
   "source": [
    "# #Removing Extra Noise Samples"
   ]
  },
  {
   "cell_type": "code",
   "execution_count": null,
   "metadata": {},
   "outputs": [],
   "source": [
    "pre = 3000\n",
    "post = 5000\n",
    "cutbgrd = lambda df: df[hour:-hour]\n",
    "\n",
    "grby = dataset.groupby('id')\n",
    "df = grby.apply(cutbgrd)\n",
    "\n",
    "cols = df.columns\n",
    "lst = cols.to_list()\n",
    "lst[ lst.index('id') ] = 'I_D'\n",
    "df.columns = lst\n",
    "\n",
    "df.reset_index( inplace=True)\n",
    "df.drop( columns=['I_D', 'level_1'], inplace=True)\n",
    "df.tail()"
   ]
  },
  {
   "cell_type": "code",
   "execution_count": 11,
   "metadata": {},
   "outputs": [],
   "source": [
    "months = ['Jan', 'Feb', 'March', 'April', 'May', 'June', 'July', 'Aug','Sep', 'Oct', 'Nov', 'Dec']"
   ]
  },
  {
   "cell_type": "code",
   "execution_count": 10,
   "metadata": {},
   "outputs": [
    {
     "ename": "AttributeError",
     "evalue": "'list' object has no attribute 'apply'",
     "output_type": "error",
     "traceback": [
      "\u001b[0;31m---------------------------------------------------------------------------\u001b[0m",
      "\u001b[0;31mAttributeError\u001b[0m                            Traceback (most recent call last)",
      "\u001b[0;32m<ipython-input-10-6f755f40a113>\u001b[0m in \u001b[0;36m<module>\u001b[0;34m()\u001b[0m\n\u001b[1;32m      3\u001b[0m \u001b[0;34m\u001b[0m\u001b[0m\n\u001b[1;32m      4\u001b[0m \u001b[0;31m#grby = dataset.groupby('id')\u001b[0m\u001b[0;34m\u001b[0m\u001b[0;34m\u001b[0m\u001b[0m\n\u001b[0;32m----> 5\u001b[0;31m \u001b[0mdf\u001b[0m \u001b[0;34m=\u001b[0m \u001b[0mtestrange\u001b[0m\u001b[0;34m.\u001b[0m\u001b[0mapply\u001b[0m\u001b[0;34m(\u001b[0m\u001b[0mcutbgrd\u001b[0m\u001b[0;34m)\u001b[0m\u001b[0;34m\u001b[0m\u001b[0m\n\u001b[0m",
      "\u001b[0;31mAttributeError\u001b[0m: 'list' object has no attribute 'apply'"
     ]
    }
   ],
   "source": [
    "hour = 32\n",
    "cutbgrd = lambda df: df[hour:-hour]\n",
    "\n",
    "#grby = dataset.groupby('id')\n",
    "df = testrange.apply(cutbgrd)"
   ]
  },
  {
   "cell_type": "code",
   "execution_count": 12,
   "metadata": {},
   "outputs": [],
   "source": [
    "Days = [31, 28, 31, 30, 31, 30, 31, 31, 30, 31, 30, 31]"
   ]
  },
  {
   "cell_type": "code",
   "execution_count": 15,
   "metadata": {},
   "outputs": [],
   "source": [
    "test_df = pd.DataFrame()"
   ]
  },
  {
   "cell_type": "code",
   "execution_count": 16,
   "metadata": {},
   "outputs": [],
   "source": [
    "test_df['Month'] = months\n",
    "test_df['Days'] = Days"
   ]
  },
  {
   "cell_type": "code",
   "execution_count": 17,
   "metadata": {},
   "outputs": [],
   "source": [
    "hour = 3\n",
    "cutbgrd = lambda df2: df2[hour:-hour]\n",
    "\n",
    "#grby = dataset.groupby('id')\n",
    "df2 = test_df.apply(cutbgrd)"
   ]
  },
  {
   "cell_type": "code",
   "execution_count": 18,
   "metadata": {},
   "outputs": [
    {
     "data": {
      "text/html": [
       "<div>\n",
       "<style scoped>\n",
       "    .dataframe tbody tr th:only-of-type {\n",
       "        vertical-align: middle;\n",
       "    }\n",
       "\n",
       "    .dataframe tbody tr th {\n",
       "        vertical-align: top;\n",
       "    }\n",
       "\n",
       "    .dataframe thead th {\n",
       "        text-align: right;\n",
       "    }\n",
       "</style>\n",
       "<table border=\"1\" class=\"dataframe\">\n",
       "  <thead>\n",
       "    <tr style=\"text-align: right;\">\n",
       "      <th></th>\n",
       "      <th>Month</th>\n",
       "      <th>Days</th>\n",
       "    </tr>\n",
       "  </thead>\n",
       "  <tbody>\n",
       "    <tr>\n",
       "      <th>3</th>\n",
       "      <td>April</td>\n",
       "      <td>30</td>\n",
       "    </tr>\n",
       "    <tr>\n",
       "      <th>4</th>\n",
       "      <td>May</td>\n",
       "      <td>31</td>\n",
       "    </tr>\n",
       "    <tr>\n",
       "      <th>5</th>\n",
       "      <td>June</td>\n",
       "      <td>30</td>\n",
       "    </tr>\n",
       "    <tr>\n",
       "      <th>6</th>\n",
       "      <td>July</td>\n",
       "      <td>31</td>\n",
       "    </tr>\n",
       "    <tr>\n",
       "      <th>7</th>\n",
       "      <td>Aug</td>\n",
       "      <td>31</td>\n",
       "    </tr>\n",
       "    <tr>\n",
       "      <th>8</th>\n",
       "      <td>Sep</td>\n",
       "      <td>30</td>\n",
       "    </tr>\n",
       "  </tbody>\n",
       "</table>\n",
       "</div>"
      ],
      "text/plain": [
       "   Month  Days\n",
       "3  April    30\n",
       "4    May    31\n",
       "5   June    30\n",
       "6   July    31\n",
       "7    Aug    31\n",
       "8    Sep    30"
      ]
     },
     "execution_count": 18,
     "metadata": {},
     "output_type": "execute_result"
    }
   ],
   "source": [
    "df2"
   ]
  },
  {
   "cell_type": "code",
   "execution_count": null,
   "metadata": {},
   "outputs": [],
   "source": []
  },
  {
   "cell_type": "code",
   "execution_count": 84,
   "metadata": {},
   "outputs": [],
   "source": []
  },
  {
   "cell_type": "code",
   "execution_count": 93,
   "metadata": {},
   "outputs": [],
   "source": [
    "from itertools import takewhile\n",
    "\n",
    "def fnd_zero(l, b): return len([x for x in takewhile(lambda x: x[1] <= b, enumerate(l))])"
   ]
  },
  {
   "cell_type": "code",
   "execution_count": 96,
   "metadata": {},
   "outputs": [],
   "source": [
    "pre_cut = 1000\n",
    "post_cut = 5000\n",
    "cutbgrd = lambda df, pre_cut, post_cut, key: df[key - pre_cut : key + post_cut]"
   ]
  },
  {
   "cell_type": "code",
   "execution_count": 106,
   "metadata": {},
   "outputs": [
    {
     "data": {
      "text/html": [
       "<div>\n",
       "<style scoped>\n",
       "    .dataframe tbody tr th:only-of-type {\n",
       "        vertical-align: middle;\n",
       "    }\n",
       "\n",
       "    .dataframe tbody tr th {\n",
       "        vertical-align: top;\n",
       "    }\n",
       "\n",
       "    .dataframe thead th {\n",
       "        text-align: right;\n",
       "    }\n",
       "</style>\n",
       "<table border=\"1\" class=\"dataframe\">\n",
       "  <thead>\n",
       "    <tr style=\"text-align: right;\">\n",
       "      <th></th>\n",
       "      <th>ID</th>\n",
       "      <th>Class</th>\n",
       "      <th>Time</th>\n",
       "      <th>R1</th>\n",
       "      <th>R5</th>\n",
       "      <th>R6</th>\n",
       "      <th>R7</th>\n",
       "      <th>R8</th>\n",
       "      <th>Temp</th>\n",
       "      <th>Humidity</th>\n",
       "    </tr>\n",
       "  </thead>\n",
       "  <tbody>\n",
       "    <tr>\n",
       "      <th>2429</th>\n",
       "      <td>0.0</td>\n",
       "      <td>1</td>\n",
       "      <td>-0.280824</td>\n",
       "      <td>13.0840</td>\n",
       "      <td>13.8121</td>\n",
       "      <td>13.6627</td>\n",
       "      <td>8.30774</td>\n",
       "      <td>9.01964</td>\n",
       "      <td>26.0514</td>\n",
       "      <td>58.7386</td>\n",
       "    </tr>\n",
       "    <tr>\n",
       "      <th>2430</th>\n",
       "      <td>0.0</td>\n",
       "      <td>1</td>\n",
       "      <td>-0.280546</td>\n",
       "      <td>13.0844</td>\n",
       "      <td>13.8137</td>\n",
       "      <td>13.6645</td>\n",
       "      <td>8.30791</td>\n",
       "      <td>9.01980</td>\n",
       "      <td>26.0484</td>\n",
       "      <td>58.7457</td>\n",
       "    </tr>\n",
       "    <tr>\n",
       "      <th>2431</th>\n",
       "      <td>0.0</td>\n",
       "      <td>1</td>\n",
       "      <td>-0.280268</td>\n",
       "      <td>13.0850</td>\n",
       "      <td>13.8152</td>\n",
       "      <td>13.6658</td>\n",
       "      <td>8.30835</td>\n",
       "      <td>9.01980</td>\n",
       "      <td>26.0457</td>\n",
       "      <td>58.7521</td>\n",
       "    </tr>\n",
       "    <tr>\n",
       "      <th>2432</th>\n",
       "      <td>0.0</td>\n",
       "      <td>1</td>\n",
       "      <td>-0.279979</td>\n",
       "      <td>13.0858</td>\n",
       "      <td>13.8162</td>\n",
       "      <td>13.6668</td>\n",
       "      <td>8.30802</td>\n",
       "      <td>9.01964</td>\n",
       "      <td>26.0432</td>\n",
       "      <td>58.7579</td>\n",
       "    </tr>\n",
       "    <tr>\n",
       "      <th>2433</th>\n",
       "      <td>0.0</td>\n",
       "      <td>1</td>\n",
       "      <td>-0.279701</td>\n",
       "      <td>13.0860</td>\n",
       "      <td>13.8172</td>\n",
       "      <td>13.6681</td>\n",
       "      <td>8.30817</td>\n",
       "      <td>9.01965</td>\n",
       "      <td>26.0410</td>\n",
       "      <td>58.7631</td>\n",
       "    </tr>\n",
       "  </tbody>\n",
       "</table>\n",
       "</div>"
      ],
      "text/plain": [
       "       ID  Class      Time       R1       R5       R6       R7       R8  \\\n",
       "2429  0.0      1 -0.280824  13.0840  13.8121  13.6627  8.30774  9.01964   \n",
       "2430  0.0      1 -0.280546  13.0844  13.8137  13.6645  8.30791  9.01980   \n",
       "2431  0.0      1 -0.280268  13.0850  13.8152  13.6658  8.30835  9.01980   \n",
       "2432  0.0      1 -0.279979  13.0858  13.8162  13.6668  8.30802  9.01964   \n",
       "2433  0.0      1 -0.279701  13.0860  13.8172  13.6681  8.30817  9.01965   \n",
       "\n",
       "         Temp  Humidity  \n",
       "2429  26.0514   58.7386  \n",
       "2430  26.0484   58.7457  \n",
       "2431  26.0457   58.7521  \n",
       "2432  26.0432   58.7579  \n",
       "2433  26.0410   58.7631  "
      ]
     },
     "execution_count": 106,
     "metadata": {},
     "output_type": "execute_result"
    }
   ],
   "source": [
    "NewDf_fulldata = pd.DataFrame()\n",
    "for _, temp_df in df_fulldata.groupby('ID'):\n",
    "    zero_loc = fnd_zero(temp_df.Time,0.0)\n",
    "    #print(temp_df.shape)\n",
    "    NewTemp_df = cutbgrd(temp_df, pre_cut, post_cut, zero_loc)\n",
    "    #print(NewTemp_df.shape)\n",
    "    frames = [NewDf_fulldata, NewTemp_df]\n",
    "    NewDf_fulldata = pd.concat(frames)\n",
    "NewDf_fulldata.head()\n"
   ]
  },
  {
   "cell_type": "code",
   "execution_count": 110,
   "metadata": {},
   "outputs": [
    {
     "name": "stdout",
     "output_type": "stream",
     "text": [
      "2429    1\n",
      "2430    1\n",
      "2431    1\n",
      "2432    1\n",
      "2433    1\n",
      "Name: Class, dtype: int64\n"
     ]
    }
   ],
   "source": [
    "NewDf_fulldata.shape\n",
    "newDf_data = NewDf_fulldata.iloc[:,3:]\n",
    "newDf_class = NewDf_fulldata.iloc[:,1]\n",
    "print(newDf_class.head())"
   ]
  },
  {
   "cell_type": "code",
   "execution_count": 111,
   "metadata": {},
   "outputs": [],
   "source": [
    "NewClass_Val = newDf_class.values\n",
    "NewData_Val = newDf_data.values"
   ]
  },
  {
   "cell_type": "code",
   "execution_count": 112,
   "metadata": {},
   "outputs": [],
   "source": [
    "Newx_train, Newx_test, Newy_train, Newy_test = train_test_split(NewData_Val, NewClass_Val, test_size = 0.2)"
   ]
  },
  {
   "cell_type": "code",
   "execution_count": 113,
   "metadata": {},
   "outputs": [],
   "source": [
    "import time"
   ]
  },
  {
   "cell_type": "code",
   "execution_count": 114,
   "metadata": {},
   "outputs": [
    {
     "name": "stderr",
     "output_type": "stream",
     "text": [
      "/home/nrvptl/.local/lib/python3.7/site-packages/sklearn/svm/base.py:196: FutureWarning: The default value of gamma will change from 'auto' to 'scale' in version 0.22 to account better for unscaled features. Set gamma explicitly to 'auto' or 'scale' to avoid this warning.\n",
      "  \"avoid this warning.\", FutureWarning)\n"
     ]
    },
    {
     "name": "stdout",
     "output_type": "stream",
     "text": [
      "2097.400220155716\n"
     ]
    }
   ],
   "source": [
    "start = time.time()\n",
    "svc=SVC() # The default kernel used by SVC is the gaussian kernel\n",
    "svc.fit(Newx_train, Newy_train)\n",
    "end = time.time()\n",
    "print(end - start)"
   ]
  },
  {
   "cell_type": "code",
   "execution_count": 115,
   "metadata": {},
   "outputs": [
    {
     "name": "stdout",
     "output_type": "stream",
     "text": [
      "78.68036437034607\n"
     ]
    }
   ],
   "source": [
    "start = time.time()\n",
    "prediction = svc.predict(Newx_test)\n",
    "end = time.time()\n",
    "print(end - start)"
   ]
  },
  {
   "cell_type": "code",
   "execution_count": 116,
   "metadata": {},
   "outputs": [
    {
     "name": "stdout",
     "output_type": "stream",
     "text": [
      "0.6089322332197697\n",
      "0.17104244232177734\n"
     ]
    }
   ],
   "source": [
    "start = time.time()\n",
    "cm = confusion_matrix(Newy_test, prediction)\n",
    "sum = 0\n",
    "for i in range(cm.shape[0]):\n",
    "    sum += cm[i][i]\n",
    "    \n",
    "accuracy = sum/x_test.shape[0]\n",
    "print(accuracy)\n",
    "end = time.time()\n",
    "print(end - start)"
   ]
  },
  {
   "cell_type": "code",
   "execution_count": 117,
   "metadata": {},
   "outputs": [],
   "source": [
    "pre_cut = 2000\n",
    "post_cut = 8000\n",
    "cutbgrd = lambda df, pre_cut, post_cut, key: df[key - pre_cut : key + post_cut]\n",
    "\n",
    "NewDf_fulldata = pd.DataFrame()\n",
    "for _, temp_df in df_fulldata.groupby('ID'):\n",
    "    zero_loc = fnd_zero(temp_df.Time,0.0)\n",
    "    #print(temp_df.shape)\n",
    "    NewTemp_df = cutbgrd(temp_df, pre_cut, post_cut, zero_loc)\n",
    "    #print(NewTemp_df.shape)\n",
    "    frames = [NewDf_fulldata, NewTemp_df]\n",
    "    NewDf_fulldata = pd.concat(frames)\n",
    "NewDf_fulldata.head()\n",
    "\n",
    "NewDf_fulldata.shape\n",
    "newDf_data = NewDf_fulldata.iloc[:,3:]\n",
    "newDf_class = NewDf_fulldata.iloc[:,1]\n",
    "\n",
    "NewClass_Val = newDf_class.values\n",
    "NewData_Val = newDf_data.values\n",
    "\n",
    "Newx_train, Newx_test, Newy_train, Newy_test = train_test_split(NewData_Val, NewClass_Val, test_size = 0.2)\n",
    "\n"
   ]
  },
  {
   "cell_type": "code",
   "execution_count": 118,
   "metadata": {},
   "outputs": [
    {
     "name": "stderr",
     "output_type": "stream",
     "text": [
      "/home/nrvptl/.local/lib/python3.7/site-packages/sklearn/svm/base.py:196: FutureWarning: The default value of gamma will change from 'auto' to 'scale' in version 0.22 to account better for unscaled features. Set gamma explicitly to 'auto' or 'scale' to avoid this warning.\n",
      "  \"avoid this warning.\", FutureWarning)\n"
     ]
    },
    {
     "name": "stdout",
     "output_type": "stream",
     "text": [
      "5276.376909732819\n"
     ]
    }
   ],
   "source": [
    "start = time.time()\n",
    "svc=SVC() # The default kernel used by SVC is the gaussian kernel\n",
    "svc.fit(Newx_train, Newy_train)\n",
    "end = time.time()\n",
    "print(end - start)"
   ]
  },
  {
   "cell_type": "code",
   "execution_count": 119,
   "metadata": {},
   "outputs": [
    {
     "name": "stdout",
     "output_type": "stream",
     "text": [
      "259.98113489151\n"
     ]
    }
   ],
   "source": [
    "start = time.time()\n",
    "prediction = svc.predict(Newx_test)\n",
    "end = time.time()\n",
    "print(end - start)"
   ]
  },
  {
   "cell_type": "code",
   "execution_count": 120,
   "metadata": {},
   "outputs": [
    {
     "name": "stdout",
     "output_type": "stream",
     "text": [
      "0.7930559367919096\n",
      "0.24298739433288574\n"
     ]
    }
   ],
   "source": [
    "start = time.time()\n",
    "cm = confusion_matrix(Newy_test, prediction)\n",
    "sum = 0\n",
    "for i in range(cm.shape[0]):\n",
    "    sum += cm[i][i]\n",
    "    \n",
    "accuracy = sum/x_test.shape[0]\n",
    "print(accuracy)\n",
    "end = time.time()\n",
    "print(end - start)"
   ]
  },
  {
   "cell_type": "code",
   "execution_count": 121,
   "metadata": {},
   "outputs": [],
   "source": [
    "pre_cut = 50\n",
    "#post_cut = 8000\n",
    "cutbgrd = lambda df, pre_cut, key: df[key - pre_cut : -1]\n",
    "\n",
    "NewDf_fulldata = pd.DataFrame()\n",
    "for _, temp_df in df_fulldata.groupby('ID'):\n",
    "    zero_loc = fnd_zero(temp_df.Time,0.0)\n",
    "    #print(temp_df.shape)\n",
    "    NewTemp_df = cutbgrd(temp_df, pre_cut, zero_loc)\n",
    "    #print(NewTemp_df.shape)\n",
    "    frames = [NewDf_fulldata, NewTemp_df]\n",
    "    NewDf_fulldata = pd.concat(frames)\n",
    "NewDf_fulldata.head()\n",
    "\n",
    "NewDf_fulldata.shape\n",
    "newDf_data = NewDf_fulldata.iloc[:,3:]\n",
    "newDf_class = NewDf_fulldata.iloc[:,1]\n",
    "\n",
    "NewClass_Val = newDf_class.values\n",
    "NewData_Val = newDf_data.values\n",
    "\n",
    "Newx_train, Newx_test, Newy_train, Newy_test = train_test_split(NewData_Val, NewClass_Val, test_size = 0.2)"
   ]
  },
  {
   "cell_type": "code",
   "execution_count": 122,
   "metadata": {},
   "outputs": [
    {
     "name": "stderr",
     "output_type": "stream",
     "text": [
      "/home/nrvptl/.local/lib/python3.7/site-packages/sklearn/svm/base.py:196: FutureWarning: The default value of gamma will change from 'auto' to 'scale' in version 0.22 to account better for unscaled features. Set gamma explicitly to 'auto' or 'scale' to avoid this warning.\n",
      "  \"avoid this warning.\", FutureWarning)\n"
     ]
    },
    {
     "name": "stdout",
     "output_type": "stream",
     "text": [
      "2138.094111442566\n"
     ]
    }
   ],
   "source": [
    "start = time.time()\n",
    "svc=SVC() # The default kernel used by SVC is the gaussian kernel\n",
    "svc.fit(Newx_train, Newy_train)\n",
    "end = time.time()\n",
    "print(end - start)"
   ]
  },
  {
   "cell_type": "code",
   "execution_count": 123,
   "metadata": {},
   "outputs": [
    {
     "name": "stdout",
     "output_type": "stream",
     "text": [
      "56.002870321273804\n"
     ]
    }
   ],
   "source": [
    "start = time.time()\n",
    "prediction = svc.predict(Newx_test)\n",
    "end = time.time()\n",
    "print(end - start)"
   ]
  },
  {
   "cell_type": "code",
   "execution_count": 124,
   "metadata": {},
   "outputs": [
    {
     "name": "stdout",
     "output_type": "stream",
     "text": [
      "0.635466283456854\n",
      "0.12349414825439453\n"
     ]
    }
   ],
   "source": [
    "start = time.time()\n",
    "cm = confusion_matrix(Newy_test, prediction)\n",
    "sum = 0\n",
    "for i in range(cm.shape[0]):\n",
    "    sum += cm[i][i]\n",
    "    \n",
    "accuracy = sum/x_test.shape[0]\n",
    "print(accuracy)\n",
    "end = time.time()\n",
    "print(end - start)"
   ]
  },
  {
   "cell_type": "code",
   "execution_count": 126,
   "metadata": {},
   "outputs": [
    {
     "data": {
      "text/plain": [
       "(591420, 7)"
      ]
     },
     "execution_count": 126,
     "metadata": {},
     "output_type": "execute_result"
    }
   ],
   "source": [
    "NewData_Val.shape"
   ]
  },
  {
   "cell_type": "code",
   "execution_count": 128,
   "metadata": {},
   "outputs": [
    {
     "data": {
      "text/plain": [
       "(591420,)"
      ]
     },
     "execution_count": 128,
     "metadata": {},
     "output_type": "execute_result"
    }
   ],
   "source": [
    "NewClass_Val.shape"
   ]
  },
  {
   "cell_type": "code",
   "execution_count": 133,
   "metadata": {},
   "outputs": [
    {
     "data": {
      "text/plain": [
       "numpy.ndarray"
      ]
     },
     "execution_count": 133,
     "metadata": {},
     "output_type": "execute_result"
    }
   ],
   "source": [
    "type(NewClass_Val)"
   ]
  },
  {
   "cell_type": "code",
   "execution_count": null,
   "metadata": {},
   "outputs": [],
   "source": []
  }
 ],
 "metadata": {
  "kernelspec": {
   "display_name": "Python 3",
   "language": "python",
   "name": "python3"
  },
  "language_info": {
   "codemirror_mode": {
    "name": "ipython",
    "version": 3
   },
   "file_extension": ".py",
   "mimetype": "text/x-python",
   "name": "python",
   "nbconvert_exporter": "python",
   "pygments_lexer": "ipython3",
   "version": "3.7.0"
  }
 },
 "nbformat": 4,
 "nbformat_minor": 2
}
